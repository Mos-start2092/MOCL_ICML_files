{
 "cells": [
  {
   "cell_type": "code",
   "execution_count": 2,
   "id": "23543ae7",
   "metadata": {},
   "outputs": [],
   "source": [
    "source(\"./Functions/MOCL.R\") \n",
    "source(\"./Functions/lambda_selection.R\")\n",
    "source(\"./Functions/MOCL_wcss.R\")\n",
    "source(\"./Functions/Adaptive_MAM.R\") \n",
    "\n",
    "source(\"./Functions/SKM_gap.R\")\n",
    "source(\"./Functions/evaluation.R\")\n",
    "\n",
    "\n",
    "library(VarSelLCM) # VarselLCM\n",
    "library(cluster)     # PAM\n",
    "\n",
    "library(ggplot2)\n",
    "library(gridExtra)\n",
    "library(ggpubr)\n",
    "library(ggthemes)\n",
    "library(GGally)\n",
    "library(RColorBrewer)\n",
    "library(corrplot)\n",
    "library(dplyr)\n",
    "library(pdfCluster)\n",
    "library(fossil)\n",
    "options(warn=-1)\n",
    "library(Rtsne)"
   ]
  },
  {
   "cell_type": "markdown",
   "id": "b7a0ae0b",
   "metadata": {},
   "source": [
    "# Function"
   ]
  },
  {
   "cell_type": "code",
   "execution_count": 3,
   "id": "1b8d475b",
   "metadata": {},
   "outputs": [],
   "source": [
    "model=MOCL_wcss"
   ]
  },
  {
   "cell_type": "code",
   "execution_count": 4,
   "id": "9dedabdb",
   "metadata": {},
   "outputs": [],
   "source": [
    "# number of K\n",
    "cor_sta_sub<-function(X,k,sub_rat,seed1=1,seed2=20,num.knotsf=6,max.iter=500){\n",
    "    kk=k\n",
    "    \n",
    "    set.seed(seed1);sub_1=sample(1:nrow(X),nrow(X)*sub_rat)\n",
    "    set.seed(seed2);sub_2=sample(1:nrow(X),nrow(X)*sub_rat)\n",
    "\n",
    "    x_1=X[sub_1,]\n",
    "    x_2=X[sub_2,]\n",
    "\n",
    "    or_m1=model(Xf=x_1,k=kk,lambda_seq=seq.default(from=0.001,to=2,length=100),delta=0.01) # knot : 6 -> L: 8\n",
    "    or_m2=model(Xf=x_2,k=kk,lambda_seq=seq.default(from=0.001,to=2,length=100),delta=0.01)\n",
    " \n",
    "    clu_mat=matrix(0,nrow(X),2)\n",
    "    clu_mat[sub_1,1]=or_m1$cluster\n",
    "    clu_mat[sub_2,2]=or_m2$cluster\n",
    "    c_sub=clu_mat[intersect(sub_1,sub_2),] # similarity of intersected subsample\n",
    "  \n",
    "    similarity=abs(cor(c_sub[,1],c_sub[,2],method=\"kendall\"))\n",
    "  \n",
    "    return(list(corr=similarity,sub1=sub_1,sub2=sub_2,clu_mat=clu_mat))\n",
    "}\n",
    "\n",
    "best_k<-function(X,iter_sub=100,K_list=c(3,4,5,6,7),sub_rat=0.8,max.iter=500){\n",
    "    k_list=K_list\n",
    "    iter_sub=iter_sub\n",
    "    data=X\n",
    "    \n",
    "    cor_mat=matrix(0,iter_sub,length(k_list))\n",
    "    colnames(cor_mat)=paste(\"K\",k_list,sep=\"_\")\n",
    "    for(i in 1:iter_sub){\n",
    "        for(kk in 1:length(k_list)){\n",
    "            set_s=round((as.numeric(Sys.time())*10000))\n",
    "            set_s=as.numeric(set_s%%1000)\n",
    "            set.seed(set_s)\n",
    "            ss=round(runif(10,1,10000))\n",
    "            \n",
    "            co_f=cor_sta_sub(X=data,k=k_list[kk],sub_rat=sub_rat,seed1=ss[1],seed2=ss[3],\n",
    "                                 num.knotsf=6,max.iter=500)\n",
    "            cor_mat[i,kk]=cor_mat[i,kk]+co_f$corr\n",
    "        \n",
    "        }\n",
    "    \n",
    "    }\n",
    "    return(cor_mat)\n",
    "    \n",
    "}"
   ]
  },
  {
   "cell_type": "markdown",
   "id": "223db6af",
   "metadata": {},
   "source": [
    "# Data"
   ]
  },
  {
   "cell_type": "code",
   "execution_count": 5,
   "id": "e2c494e5",
   "metadata": {},
   "outputs": [
    {
     "data": {
      "text/html": [
       "<style>\n",
       ".list-inline {list-style: none; margin:0; padding: 0}\n",
       ".list-inline>li {display: inline-block}\n",
       ".list-inline>li:not(:last-child)::after {content: \"\\00b7\"; padding: 0 .5ex}\n",
       "</style>\n",
       "<ol class=list-inline><li>'strikeout'</li><li>'walk'</li><li>'batting'</li><li>'power'</li><li>'velocity'</li><li>'angle'</li><li>'well-hit'</li><li>'hard'</li><li>'contact'</li></ol>\n"
      ],
      "text/latex": [
       "\\begin{enumerate*}\n",
       "\\item 'strikeout'\n",
       "\\item 'walk'\n",
       "\\item 'batting'\n",
       "\\item 'power'\n",
       "\\item 'velocity'\n",
       "\\item 'angle'\n",
       "\\item 'well-hit'\n",
       "\\item 'hard'\n",
       "\\item 'contact'\n",
       "\\end{enumerate*}\n"
      ],
      "text/markdown": [
       "1. 'strikeout'\n",
       "2. 'walk'\n",
       "3. 'batting'\n",
       "4. 'power'\n",
       "5. 'velocity'\n",
       "6. 'angle'\n",
       "7. 'well-hit'\n",
       "8. 'hard'\n",
       "9. 'contact'\n",
       "\n",
       "\n"
      ],
      "text/plain": [
       "[1] \"strikeout\" \"walk\"      \"batting\"   \"power\"     \"velocity\"  \"angle\"    \n",
       "[7] \"well-hit\"  \"hard\"      \"contact\"  "
      ]
     },
     "metadata": {},
     "output_type": "display_data"
    }
   ],
   "source": [
    "mlb2021=read.csv(\"/Users/anseongbin/Desktop/AAAI 2024/Supplementary Material for Monotone Clustering/Real Data Analysis/stats2021.csv\")\n",
    "mlb2021 = mlb2021[,-c(1,2,3,4,16)]\n",
    "\n",
    "colnames(mlb2021)=c(\"strikeout\",\"walk\",\"batting\",\"power\",\"woba\",\"velocity\",\n",
    "                 \"angle\",\"well-hit\",\"barrel\",\"hard\",\"contact\")\n",
    "mlb_x = scale(mlb2021[,-c(5,9)])\n",
    "y = mlb2021[,5]\n",
    "colnames(mlb_x)=c(\"strikeout\",\"walk\",\"batting\",\"power\",\"velocity\",\n",
    "                 \"angle\",\"well-hit\",\"hard\",\"contact\")\n",
    "\n",
    "#mlb_x=mlb_x[,c(4,8,9,10)]\n",
    "colnames(mlb_x)"
   ]
  },
  {
   "cell_type": "code",
   "execution_count": 12,
   "id": "e15f45d7",
   "metadata": {},
   "outputs": [
    {
     "data": {
      "text/plain": [
       "[1] \"2024-01-31 16:15:36 KST\""
      ]
     },
     "metadata": {},
     "output_type": "display_data"
    },
    {
     "data": {
      "text/plain": [
       "[1] \"2024-01-31 16:22:54 KST\""
      ]
     },
     "metadata": {},
     "output_type": "display_data"
    }
   ],
   "source": [
    "Sys.time()\n",
    "K_stab=best_k(mlb_x,iter_sub=10,K_list=c(3,4,5,6),sub_rat=0.8)\n",
    "Sys.time()"
   ]
  },
  {
   "cell_type": "code",
   "execution_count": 13,
   "id": "911d2e5a",
   "metadata": {},
   "outputs": [
    {
     "data": {
      "text/html": [
       "<style>\n",
       ".dl-inline {width: auto; margin:0; padding: 0}\n",
       ".dl-inline>dt, .dl-inline>dd {float: none; width: auto; display: inline-block}\n",
       ".dl-inline>dt::after {content: \":\\0020\"; padding-right: .5ex}\n",
       ".dl-inline>dt:not(:first-of-type) {padding-left: .5ex}\n",
       "</style><dl class=dl-inline><dt>K_3</dt><dd>0.855106420891837</dd><dt>K_4</dt><dd>0.881240167297468</dd><dt>K_5</dt><dd>0.928049936289005</dd><dt>K_6</dt><dd>0.899562463157712</dd></dl>\n"
      ],
      "text/latex": [
       "\\begin{description*}\n",
       "\\item[K\\textbackslash{}\\_3] 0.855106420891837\n",
       "\\item[K\\textbackslash{}\\_4] 0.881240167297468\n",
       "\\item[K\\textbackslash{}\\_5] 0.928049936289005\n",
       "\\item[K\\textbackslash{}\\_6] 0.899562463157712\n",
       "\\end{description*}\n"
      ],
      "text/markdown": [
       "K_3\n",
       ":   0.855106420891837K_4\n",
       ":   0.881240167297468K_5\n",
       ":   0.928049936289005K_6\n",
       ":   0.899562463157712\n",
       "\n"
      ],
      "text/plain": [
       "      K_3       K_4       K_5       K_6 \n",
       "0.8551064 0.8812402 0.9280499 0.8995625 "
      ]
     },
     "metadata": {},
     "output_type": "display_data"
    }
   ],
   "source": [
    "apply(K_stab,2,mean)"
   ]
  },
  {
   "cell_type": "code",
   "execution_count": 15,
   "id": "e76f50d1",
   "metadata": {},
   "outputs": [
    {
     "data": {
      "text/html": [
       "<style>\n",
       ".dl-inline {width: auto; margin:0; padding: 0}\n",
       ".dl-inline>dt, .dl-inline>dd {float: none; width: auto; display: inline-block}\n",
       ".dl-inline>dt::after {content: \":\\0020\"; padding-right: .5ex}\n",
       ".dl-inline>dt:not(:first-of-type) {padding-left: .5ex}\n",
       "</style><dl class=dl-inline><dt>K_3</dt><dd>0.0608422221816396</dd><dt>K_4</dt><dd>0.0360499653259195</dd><dt>K_5</dt><dd>0.0267528690050245</dd><dt>K_6</dt><dd>0.0648899375866551</dd></dl>\n"
      ],
      "text/latex": [
       "\\begin{description*}\n",
       "\\item[K\\textbackslash{}\\_3] 0.0608422221816396\n",
       "\\item[K\\textbackslash{}\\_4] 0.0360499653259195\n",
       "\\item[K\\textbackslash{}\\_5] 0.0267528690050245\n",
       "\\item[K\\textbackslash{}\\_6] 0.0648899375866551\n",
       "\\end{description*}\n"
      ],
      "text/markdown": [
       "K_3\n",
       ":   0.0608422221816396K_4\n",
       ":   0.0360499653259195K_5\n",
       ":   0.0267528690050245K_6\n",
       ":   0.0648899375866551\n",
       "\n"
      ],
      "text/plain": [
       "       K_3        K_4        K_5        K_6 \n",
       "0.06084222 0.03604997 0.02675287 0.06488994 "
      ]
     },
     "metadata": {},
     "output_type": "display_data"
    }
   ],
   "source": [
    "2*round(apply(K_stab,2,sd),4)/sqrt(10)"
   ]
  },
  {
   "cell_type": "code",
   "execution_count": null,
   "id": "ea8e243c",
   "metadata": {},
   "outputs": [],
   "source": []
  },
  {
   "cell_type": "code",
   "execution_count": null,
   "id": "e27c3780",
   "metadata": {},
   "outputs": [],
   "source": []
  }
 ],
 "metadata": {
  "kernelspec": {
   "display_name": "R",
   "language": "R",
   "name": "ir"
  },
  "language_info": {
   "codemirror_mode": "r",
   "file_extension": ".r",
   "mimetype": "text/x-r-source",
   "name": "R",
   "pygments_lexer": "r",
   "version": "4.1.3"
  }
 },
 "nbformat": 4,
 "nbformat_minor": 5
}
