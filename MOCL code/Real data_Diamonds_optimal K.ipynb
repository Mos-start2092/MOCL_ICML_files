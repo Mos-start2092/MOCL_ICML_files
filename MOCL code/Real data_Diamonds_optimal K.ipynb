{
 "cells": [
  {
   "cell_type": "code",
   "execution_count": 2,
   "id": "7adcec69",
   "metadata": {},
   "outputs": [],
   "source": [
    "source(\"./Functions/MOCL.R\") \n",
    "source(\"./Functions/lambda_selection.R\")\n",
    "source(\"./Functions/MOCL_wcss.R\")\n",
    "source(\"./Functions/Adaptive_MAM.R\") \n",
    "\n",
    "source(\"./Functions/SKM_gap.R\")\n",
    "source(\"./Functions/evaluation.R\")\n",
    "\n",
    "library(VarSelLCM) # VarselLCM\n",
    "library(cluster)     # PAM\n",
    "\n",
    "library(ggplot2)\n",
    "library(gridExtra)\n",
    "library(ggpubr)\n",
    "library(ggthemes)\n",
    "library(GGally)\n",
    "library(RColorBrewer)\n",
    "library(corrplot)\n",
    "library(dplyr)\n",
    "library(pdfCluster)\n",
    "library(fossil)\n",
    "options(warn=-1)\n",
    "library(Rtsne)"
   ]
  },
  {
   "cell_type": "markdown",
   "id": "53509a31",
   "metadata": {},
   "source": [
    "# Functions"
   ]
  },
  {
   "cell_type": "code",
   "execution_count": 3,
   "id": "3ae3e6f9",
   "metadata": {},
   "outputs": [],
   "source": [
    "model=MOCL_wcss"
   ]
  },
  {
   "cell_type": "code",
   "execution_count": 4,
   "id": "5b06acb1",
   "metadata": {},
   "outputs": [],
   "source": [
    "# number of K\n",
    "cor_sta_sub<-function(X,k,sub_rat,seed1=1,seed2=20,num.knotsf=6,max.iter=500){\n",
    "    kk=k\n",
    "    \n",
    "    set.seed(seed1);sub_1=sample(1:nrow(X),nrow(X)*sub_rat)\n",
    "    set.seed(seed2);sub_2=sample(1:nrow(X),nrow(X)*sub_rat)\n",
    "\n",
    "    x_1=X[sub_1,]\n",
    "    x_2=X[sub_2,]\n",
    "\n",
    "    or_m1=model(Xf=x_1,k=kk,lambda_seq=seq.default(from=0.001,to=3,length=100),delta=0.01) # knot : 6 -> L: 8\n",
    "    or_m2=model(Xf=x_2,k=kk,lambda_seq=seq.default(from=0.001,to=3,length=100),delta=0.01)\n",
    " \n",
    "    clu_mat=matrix(0,nrow(X),2)\n",
    "    clu_mat[sub_1,1]=or_m1$cluster\n",
    "    clu_mat[sub_2,2]=or_m2$cluster\n",
    "    c_sub=clu_mat[intersect(sub_1,sub_2),] # similarity of intersected subsample\n",
    "  \n",
    "    similarity=abs(cor(c_sub[,1],c_sub[,2],method=\"kendall\"))\n",
    "  \n",
    "    return(list(corr=similarity,sub1=sub_1,sub2=sub_2,clu_mat=clu_mat))\n",
    "}\n",
    "\n",
    "best_k<-function(X,iter_sub=100,K_list=c(3,4,5,6,7),sub_rat=0.8,max.iter=500){\n",
    "    k_list=K_list\n",
    "    iter_sub=iter_sub\n",
    "    data=X\n",
    "    \n",
    "    cor_mat=matrix(0,iter_sub,length(k_list))\n",
    "    colnames(cor_mat)=paste(\"K\",k_list,sep=\"_\")\n",
    "    for(i in 1:iter_sub){\n",
    "        for(kk in 1:length(k_list)){\n",
    "            set_s=round((as.numeric(Sys.time())*10000))\n",
    "            set_s=as.numeric(set_s%%1000)\n",
    "            set.seed(set_s)\n",
    "            ss=round(runif(10,1,10000))\n",
    "            \n",
    "            co_f=cor_sta_sub(X=data,k=k_list[kk],sub_rat=sub_rat,seed1=ss[1],seed2=ss[3],\n",
    "                                 num.knotsf=6,max.iter=500)\n",
    "            cor_mat[i,kk]=cor_mat[i,kk]+co_f$corr\n",
    "        \n",
    "        }\n",
    "    \n",
    "    }\n",
    "    return(cor_mat)\n",
    "    \n",
    "}"
   ]
  },
  {
   "cell_type": "markdown",
   "id": "912d3f92",
   "metadata": {},
   "source": [
    "# Data"
   ]
  },
  {
   "cell_type": "code",
   "execution_count": 5,
   "id": "83e3e521",
   "metadata": {},
   "outputs": [],
   "source": [
    "library(ggplot2)\n",
    "dia_data=diamonds\n",
    "\n",
    "colnames(dia_data)=c('carat','cut','color','clarity','depth','table','price',\"length\",\"width\",\"height\")\n",
    "\n",
    "data_x=dia_data[,-7]\n",
    "price=dia_data[,7]\n",
    "\n",
    "# Ordinal data labeling\n",
    "data_x[,2]=(data_x[,2]==\"Fair\")*1+(data_x[,2]==\"Good\")*2+(data_x[,2]==\"Very Good\")*3+\n",
    "(data_x[,2]==\"Premium\")*4+(data_x[,2]==\"Ideal\")*5\n",
    "\n",
    "data_x[,3]=(data_x[,3]==\"D\")*1+(data_x[,3]==\"E\")*2+(data_x[,3]==\"F\")*3+(data_x[,3]==\"G\")*4+(data_x[,3]==\"H\")*5+\n",
    "(data_x[,3]==\"I\")*6+(data_x[,3]==\"J\")*7\n",
    "\n",
    "data_x[,4]=(data_x[,4]=='I1')*2+(data_x[,4]=='SI1')*3+(data_x[,4]=='SI2')*4+(data_x[,4]=='VS1')*5+\n",
    "(data_x[,4]=='VS2')*6+(data_x[,4]=='VVS1')*7+(data_x[,4]=='VVS2')*8+(data_x[,4]=='IF')*9-1\n",
    "\n",
    "data_x=as.matrix(data_x)\n",
    "data_x=as.data.frame(data_x)\n",
    "\n",
    "# subsampling\n",
    "set.seed(133)\n",
    "sam=sample(1:nrow(data_x),5000)\n",
    "\n",
    "sub_x=scale(data_x[sam,])\n",
    "sub_price=t(price[sam,])\n",
    "y=sub_price"
   ]
  },
  {
   "cell_type": "markdown",
   "id": "0bb5f71d",
   "metadata": {},
   "source": [
    "# Optimal K"
   ]
  },
  {
   "cell_type": "code",
   "execution_count": 6,
   "id": "947f6e3c",
   "metadata": {},
   "outputs": [
    {
     "data": {
      "text/plain": [
       "[1] \"2024-01-31 16:24:30 KST\""
      ]
     },
     "metadata": {},
     "output_type": "display_data"
    }
   ],
   "source": [
    "Sys.time()"
   ]
  },
  {
   "cell_type": "code",
   "execution_count": 7,
   "id": "7e564715",
   "metadata": {},
   "outputs": [
    {
     "data": {
      "text/plain": [
       "[1] \"2024-01-31 18:10:30 KST\""
      ]
     },
     "metadata": {},
     "output_type": "display_data"
    }
   ],
   "source": [
    "K_stab=best_k(sub_x,iter_sub=10,K_list=c(3,4,5,6),sub_rat=0.8)\n",
    "Sys.time()"
   ]
  },
  {
   "cell_type": "code",
   "execution_count": 8,
   "id": "36007392",
   "metadata": {},
   "outputs": [
    {
     "data": {
      "text/html": [
       "<style>\n",
       ".dl-inline {width: auto; margin:0; padding: 0}\n",
       ".dl-inline>dt, .dl-inline>dd {float: none; width: auto; display: inline-block}\n",
       ".dl-inline>dt::after {content: \":\\0020\"; padding-right: .5ex}\n",
       ".dl-inline>dt:not(:first-of-type) {padding-left: .5ex}\n",
       "</style><dl class=dl-inline><dt>K_3</dt><dd>0.9945</dd><dt>K_4</dt><dd>0.9413</dd><dt>K_5</dt><dd>0.9872</dd><dt>K_6</dt><dd>0.9988</dd></dl>\n"
      ],
      "text/latex": [
       "\\begin{description*}\n",
       "\\item[K\\textbackslash{}\\_3] 0.9945\n",
       "\\item[K\\textbackslash{}\\_4] 0.9413\n",
       "\\item[K\\textbackslash{}\\_5] 0.9872\n",
       "\\item[K\\textbackslash{}\\_6] 0.9988\n",
       "\\end{description*}\n"
      ],
      "text/markdown": [
       "K_3\n",
       ":   0.9945K_4\n",
       ":   0.9413K_5\n",
       ":   0.9872K_6\n",
       ":   0.9988\n",
       "\n"
      ],
      "text/plain": [
       "   K_3    K_4    K_5    K_6 \n",
       "0.9945 0.9413 0.9872 0.9988 "
      ]
     },
     "metadata": {},
     "output_type": "display_data"
    }
   ],
   "source": [
    "round(apply(K_stab,2,mean),4)"
   ]
  },
  {
   "cell_type": "code",
   "execution_count": 11,
   "id": "013268cb",
   "metadata": {},
   "outputs": [
    {
     "data": {
      "text/html": [
       "<style>\n",
       ".dl-inline {width: auto; margin:0; padding: 0}\n",
       ".dl-inline>dt, .dl-inline>dd {float: none; width: auto; display: inline-block}\n",
       ".dl-inline>dt::after {content: \":\\0020\"; padding-right: .5ex}\n",
       ".dl-inline>dt:not(:first-of-type) {padding-left: .5ex}\n",
       "</style><dl class=dl-inline><dt>K_3</dt><dd>0.00113841995766062</dd><dt>K_4</dt><dd>0.0308638299632434</dd><dt>K_5</dt><dd>0.011004726257386</dd><dt>K_6</dt><dd>0.00025298221281347</dd></dl>\n"
      ],
      "text/latex": [
       "\\begin{description*}\n",
       "\\item[K\\textbackslash{}\\_3] 0.00113841995766062\n",
       "\\item[K\\textbackslash{}\\_4] 0.0308638299632434\n",
       "\\item[K\\textbackslash{}\\_5] 0.011004726257386\n",
       "\\item[K\\textbackslash{}\\_6] 0.00025298221281347\n",
       "\\end{description*}\n"
      ],
      "text/markdown": [
       "K_3\n",
       ":   0.00113841995766062K_4\n",
       ":   0.0308638299632434K_5\n",
       ":   0.011004726257386K_6\n",
       ":   0.00025298221281347\n",
       "\n"
      ],
      "text/plain": [
       "         K_3          K_4          K_5          K_6 \n",
       "0.0011384200 0.0308638300 0.0110047263 0.0002529822 "
      ]
     },
     "metadata": {},
     "output_type": "display_data"
    }
   ],
   "source": [
    "2*round(apply(K_stab,2,sd),4)/sqrt(10)"
   ]
  },
  {
   "cell_type": "code",
   "execution_count": null,
   "id": "525a6a40",
   "metadata": {},
   "outputs": [],
   "source": []
  }
 ],
 "metadata": {
  "kernelspec": {
   "display_name": "R",
   "language": "R",
   "name": "ir"
  },
  "language_info": {
   "codemirror_mode": "r",
   "file_extension": ".r",
   "mimetype": "text/x-r-source",
   "name": "R",
   "pygments_lexer": "r",
   "version": "4.1.3"
  }
 },
 "nbformat": 4,
 "nbformat_minor": 5
}
