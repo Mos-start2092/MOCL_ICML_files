{
 "cells": [
  {
   "cell_type": "code",
   "execution_count": 14,
   "id": "8056d366",
   "metadata": {},
   "outputs": [],
   "source": [
    "source(\"./Ordered K-means_additional.R\")\n",
    "\n",
    "\n",
    "library(ggplot2)\n",
    "library(gridExtra)\n",
    "library(ggpubr)\n",
    "library(ggthemes)\n",
    "library(GGally)\n",
    "library(RColorBrewer)\n",
    "library(corrplot)\n",
    "library(dplyr)\n",
    "library(pdfCluster)\n",
    "library(fossil)\n",
    "options(warn=-1)\n",
    "library(Rtsne)\n",
    "library(latex2exp)"
   ]
  },
  {
   "cell_type": "markdown",
   "id": "e5206389",
   "metadata": {},
   "source": [
    "# Function"
   ]
  },
  {
   "cell_type": "code",
   "execution_count": 15,
   "id": "83f0cbdf",
   "metadata": {},
   "outputs": [],
   "source": [
    "nor_minmax = function(x){\n",
    "  xx=matrix(0,nrow(x),ncol(x))\n",
    "  colnames(xx)=colnames(x)\n",
    "  for(i in 1:ncol(x)){\n",
    "    xx[,i]=(x[,i] - min(x[,i])) / (max(x[,i]) - min(x[,i]))\n",
    "  }\n",
    "  return(xx)\n",
    "}\n",
    "\n",
    "setting_K7_unbalanced<-function(mu_or=1,n_k_lst=21*abs(c(1:7)-4)+20,\n",
    "                                p=20,seed=1234,mu_no=1){\n",
    "    set.seed(seed)\n",
    "    K=length(n_k_lst)\n",
    "    n=sum(n_k_lst)\n",
    "    \n",
    "    for(i in 1:K){\n",
    "        if(i==1){\n",
    "            clu_k=c(rep(i,n_k_lst[i]))\n",
    "        }else{\n",
    "            clu_k=c(clu_k,rep(i,n_k_lst[i]))\n",
    "        }\n",
    "    }\n",
    "    \n",
    "    mu_1=mu_or*(1/3)*(clu_k)^2\n",
    "    mu_2=mu_or*(-10)*(clu_k)^(1/2)\n",
    "    \n",
    "    # Data generation\n",
    "    x1=mu_1+rnorm(n,0,(1+1/clu_k))\n",
    "    x2=mu_2+rnorm(n,0,(1+1/clu_k))\n",
    "    \n",
    "    data_x=scale(cbind(x1,x2))\n",
    "    \n",
    "    ############################\n",
    "    # Data corresponding to nominal clusters\n",
    "    mu_no_mat=diag(K)\n",
    "    \n",
    "    # Nominal cluster generation\n",
    "    x_no=matrix(0,n,ncol(mu_no_mat))\n",
    "    p_lst=runif(n,0,1)\n",
    "    clu_no=p_lst*0\n",
    "    for(i in 1:K){\n",
    "        clu_no=clu_no+(p_lst>=((i-1)/8))\n",
    "    }\n",
    "    #clu_no\n",
    "    for(i in 1:nrow(x_no)){\n",
    "        x_no[i,]=mu_no*mu_no_mat[clu_no[i],]\n",
    "    }\n",
    "\n",
    "    for(i in 1:ncol(x_no)){\n",
    "        x_no[,i]=x_no[,i]+rnorm(nrow(x_no),0,1)\n",
    "    }\n",
    "\n",
    "    colnames(x_no)=paste(\"x_no\",1:(ncol(x_no)),sep=\"_\")\n",
    "    \n",
    "    ###############################\n",
    "    # Noise variables\n",
    "    p_e=p-ncol(data_x)-ncol(x_no)\n",
    "    noise_mat=nor_minmax(matrix(rnorm(n*p_e,0,1),n,p_e))\n",
    "    colnames(noise_mat)=paste(\"noise\",1:(ncol(noise_mat)),sep=\"_\")\n",
    "    \n",
    "    data=scale(cbind(data_x,x_no,noise_mat))\n",
    "    \n",
    "    ## clustering\n",
    "    kk=K\n",
    "    okm=okm_basic(data=data,k=kk,seed=seed+102)\n",
    "    okm_cluster=okm$cluster\n",
    "    \n",
    "    \n",
    "    kendall=cor(clu_k,okm$cluster,method=\"kendall\")\n",
    "    rand=rand.index(clu_k,okm$cluster)\n",
    "    \n",
    "    return(list(okm_clu=okm$cluster,cluster=clu_k,clu_no=clu_no,kendall=kendall,rand=rand))\n",
    "}"
   ]
  },
  {
   "cell_type": "markdown",
   "id": "c4326f1b",
   "metadata": {},
   "source": [
    "# First 50 iterations"
   ]
  },
  {
   "cell_type": "code",
   "execution_count": 16,
   "id": "96c1dd8e",
   "metadata": {},
   "outputs": [],
   "source": [
    "iter_n=50"
   ]
  },
  {
   "cell_type": "code",
   "execution_count": 17,
   "id": "e5230786",
   "metadata": {},
   "outputs": [
    {
     "data": {
      "text/plain": [
       "[1] \"2024-08-10 14:36:04 KST\""
      ]
     },
     "metadata": {},
     "output_type": "display_data"
    },
    {
     "data": {
      "text/plain": [
       "[1] \"2024-08-10 14:36:04 KST\""
      ]
     },
     "metadata": {},
     "output_type": "display_data"
    },
    {
     "data": {
      "text/plain": [
       "[1] \"2024-08-10 15:21:07 KST\""
      ]
     },
     "metadata": {},
     "output_type": "display_data"
    },
    {
     "data": {
      "text/plain": [
       "[1] \"2024-08-10 16:13:54 KST\""
      ]
     },
     "metadata": {},
     "output_type": "display_data"
    },
    {
     "data": {
      "text/plain": [
       "[1] \"2024-08-10 18:41:06 KST\""
      ]
     },
     "metadata": {},
     "output_type": "display_data"
    },
    {
     "data": {
      "text/plain": [
       "[1] \"2024-08-10 19:11:09 KST\""
      ]
     },
     "metadata": {},
     "output_type": "display_data"
    },
    {
     "data": {
      "text/plain": [
       "[1] \"2024-08-10 19:46:08 KST\""
      ]
     },
     "metadata": {},
     "output_type": "display_data"
    },
    {
     "data": {
      "text/plain": [
       "[1] \"2024-08-10 20:12:49 KST\""
      ]
     },
     "metadata": {},
     "output_type": "display_data"
    },
    {
     "data": {
      "text/plain": [
       "[1] \"2024-08-10 20:35:49 KST\""
      ]
     },
     "metadata": {},
     "output_type": "display_data"
    },
    {
     "data": {
      "text/plain": [
       "[1] \"2024-08-10 20:59:17 KST\""
      ]
     },
     "metadata": {},
     "output_type": "display_data"
    }
   ],
   "source": [
    "ss=421\n",
    "set.seed(ss)\n",
    "seed_r=seed_r=round(runif(20000,1,30000))\n",
    "\n",
    "models_0=list()\n",
    "models_1=list()\n",
    "models_2=list()\n",
    "models_3=list()\n",
    "models_4=list()\n",
    "models_5=list()\n",
    "\n",
    "models_6=list()\n",
    "models_7=list()\n",
    "models_8=list()\n",
    "models_9=list()\n",
    "models_10=list()\n",
    "\n",
    "mu_ord=0.325\n",
    "\n",
    "for(i in 1:iter_n){\n",
    "    seed_rr=seed_r[120*i+22]\n",
    "    models_0[[i]]=setting_K7_unbalanced(mu_or=mu_ord*(1/0.1),seed=seed_rr,mu_no=4)   \n",
    "}\n",
    "\n",
    "for(i in 1:iter_n){\n",
    "    seed_rr=seed_r[10*i+2]\n",
    "    models_1[[i]]=setting_K7_unbalanced(mu_or=mu_ord*(1/0.3),seed=seed_rr,mu_no=4)   \n",
    "}\n",
    "\n",
    "for(i in 1:iter_n){\n",
    "    seed_rr=seed_r[11*i+21]\n",
    "    models_2[[i]]=setting_K7_unbalanced(mu_or=mu_ord*(1/0.5),seed=seed_rr,mu_no=4)   \n",
    "}\n",
    "Sys.time()\n",
    "\n",
    "\n",
    "Sys.time()\n",
    "\n",
    "for(i in 1:iter_n){\n",
    "    seed_rr=seed_r[10*i+142]\n",
    "    models_3[[i]]=setting_K7_unbalanced(mu_or=mu_ord*(1/0.7),seed=seed_rr,mu_no=4)   \n",
    "}\n",
    "Sys.time()\n",
    "\n",
    "for(i in 1:iter_n){\n",
    "    seed_rr=seed_r[10*i+1002]\n",
    "    models_4[[i]]=setting_K7_unbalanced(mu_or=mu_ord*(1/0.9),seed=seed_rr,mu_no=4)   \n",
    "}\n",
    "Sys.time()\n",
    "\n",
    "for(i in 1:iter_n){\n",
    "    seed_rr=seed_r[10*i+2000]\n",
    "    models_5[[i]]=setting_K7_unbalanced(mu_or=mu_ord*(1/1.1),seed=seed_rr,mu_no=4)   \n",
    "}\n",
    "Sys.time()\n",
    "\n",
    "for(i in 1:iter_n){\n",
    "    seed_rr=seed_r[10*i+232]\n",
    "    models_6[[i]]=setting_K7_unbalanced(mu_or=mu_ord*(1/1.3),seed=seed_rr,mu_no=4)   \n",
    "}\n",
    "Sys.time()\n",
    "\n",
    "for(i in 1:iter_n){\n",
    "    seed_rr=seed_r[11*i+10000]\n",
    "    models_7[[i]]=setting_K7_unbalanced(mu_or=mu_ord*(1/1.5),seed=seed_rr,mu_no=4)   \n",
    "}\n",
    "Sys.time()\n",
    "\n",
    "for(i in 1:iter_n){\n",
    "    seed_rr=seed_r[11*i+1744]\n",
    "    models_8[[i]]=setting_K7_unbalanced(mu_or=mu_ord*(1/1.7),seed=seed_rr,mu_no=4)   \n",
    "}\n",
    "\n",
    "Sys.time()\n",
    "for(i in 1:iter_n){\n",
    "    seed_rr=seed_r[19*(i-3)+820]\n",
    "    models_9[[i]]=setting_K7_unbalanced(mu_or=mu_ord*(1/1.9),seed=seed_rr,mu_no=4)   \n",
    "}\n",
    "Sys.time()\n",
    "\n",
    "for(i in 1:iter_n){\n",
    "    seed_rr=seed_r[10*i+33]\n",
    "    models_10[[i]]=setting_K7_unbalanced(mu_or=mu_ord*(1/2.1),seed=seed_rr,mu_no=4)   \n",
    "}\n",
    "Sys.time()\n"
   ]
  },
  {
   "cell_type": "code",
   "execution_count": 18,
   "id": "0d1f234e",
   "metadata": {},
   "outputs": [
    {
     "data": {
      "text/html": [
       "50"
      ],
      "text/latex": [
       "50"
      ],
      "text/markdown": [
       "50"
      ],
      "text/plain": [
       "[1] 50"
      ]
     },
     "metadata": {},
     "output_type": "display_data"
    }
   ],
   "source": [
    "length(models_10)"
   ]
  },
  {
   "cell_type": "markdown",
   "id": "85f38876",
   "metadata": {},
   "source": [
    "# Results"
   ]
  },
  {
   "cell_type": "code",
   "execution_count": 19,
   "id": "9ff44c48",
   "metadata": {},
   "outputs": [],
   "source": [
    "mm_lst_or_1=list()\n",
    "mm_lst_or_1[[1]]=models_0\n",
    "mm_lst_or_1[[2]]=models_1\n",
    "mm_lst_or_1[[3]]=models_2\n",
    "mm_lst_or_1[[4]]=models_3\n",
    "mm_lst_or_1[[5]]=models_4\n",
    "mm_lst_or_1[[6]]=models_5\n",
    "mm_lst_or_1[[7]]=models_6\n",
    "mm_lst_or_1[[8]]=models_7\n",
    "mm_lst_or_1[[9]]=models_8\n",
    "mm_lst_or_1[[10]]=models_9\n",
    "mm_lst_or_1[[11]]=models_10"
   ]
  },
  {
   "cell_type": "code",
   "execution_count": 20,
   "id": "c9538a29",
   "metadata": {},
   "outputs": [],
   "source": [
    "saveRDS(mm_lst_or_1,file=\"OKM_add_simul_or_1.RData\")"
   ]
  },
  {
   "cell_type": "code",
   "execution_count": null,
   "id": "7d7c9c85",
   "metadata": {},
   "outputs": [],
   "source": []
  }
 ],
 "metadata": {
  "kernelspec": {
   "display_name": "R",
   "language": "R",
   "name": "r"
  },
  "language_info": {
   "codemirror_mode": "r",
   "file_extension": ".r",
   "mimetype": "text/x-r-source",
   "name": "R",
   "pygments_lexer": "r",
   "version": "4.2.1"
  }
 },
 "nbformat": 4,
 "nbformat_minor": 5
}
