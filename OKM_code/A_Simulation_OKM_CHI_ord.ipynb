{
 "cells": [
  {
   "cell_type": "code",
   "execution_count": 46,
   "id": "61a72bd3",
   "metadata": {},
   "outputs": [],
   "source": [
    "source(\"./Ordered K-means.R\")\n",
    "\n",
    "\n",
    "library(ggplot2)\n",
    "library(gridExtra)\n",
    "library(ggpubr)\n",
    "library(ggthemes)\n",
    "library(GGally)\n",
    "library(RColorBrewer)\n",
    "library(corrplot)\n",
    "library(dplyr)\n",
    "library(pdfCluster)\n",
    "library(fossil)\n",
    "options(warn=-1)\n",
    "library(Rtsne)\n",
    "library(latex2exp)"
   ]
  },
  {
   "cell_type": "code",
   "execution_count": 47,
   "id": "49b2b114",
   "metadata": {},
   "outputs": [],
   "source": [
    "nor_minmax = function(x){\n",
    "  xx=matrix(0,nrow(x),ncol(x))\n",
    "  colnames(xx)=colnames(x)\n",
    "  for(i in 1:ncol(x)){\n",
    "    xx[,i]=(x[,i] - min(x[,i])) / (max(x[,i]) - min(x[,i]))\n",
    "  }\n",
    "  return(xx)\n",
    "}"
   ]
  },
  {
   "cell_type": "code",
   "execution_count": 48,
   "id": "cf627240",
   "metadata": {},
   "outputs": [],
   "source": [
    "setting_K4<-function(mu_or=1,n_k_lst=c(50,50,50,50),\n",
    "                                p=20,seed=1234,mu_no=10){\n",
    "    set.seed(seed)\n",
    "    K=length(n_k_lst)\n",
    "    n=sum(n_k_lst)\n",
    "    \n",
    "    for(i in 1:K){\n",
    "        if(i==1){\n",
    "            clu_k=c(rep(i,n_k_lst[i]))\n",
    "        }else{\n",
    "            clu_k=c(clu_k,rep(i,n_k_lst[i]))\n",
    "        }\n",
    "    }\n",
    "    \n",
    "    mu_1=mu_or*(2*clu_k)\n",
    "    mu_2=-mu_or*(exp(clu_k)/10)\n",
    "    mu_3=mu_or*(7*log(clu_k))\n",
    "    \n",
    "    \n",
    "    # Data generation\n",
    "    x1=mu_1+rnorm(n,0,1)\n",
    "    x2=mu_2+rnorm(n,0,1)\n",
    "    x3=mu_3+rnorm(n,0,1)\n",
    "    \n",
    "    data_x=scale(cbind(x1,x2,x3))\n",
    "    \n",
    "    ############################\n",
    "    # Data corresponding to nominal clusters\n",
    "    mu_no_mat=diag(K)\n",
    "    \n",
    "    # Nominal cluster generation\n",
    "    x_no=matrix(0,n,ncol(mu_no_mat))\n",
    "    p_lst=runif(n,0,1)\n",
    "    clu_no=p_lst*0\n",
    "    for(i in 1:K){\n",
    "        clu_no=clu_no+(p_lst>=((i-1)/K))\n",
    "    }\n",
    "    #clu_no\n",
    "    for(i in 1:nrow(x_no)){\n",
    "        x_no[i,]=mu_no*mu_no_mat[clu_no[i],]\n",
    "    }\n",
    "\n",
    "    for(i in 1:ncol(x_no)){\n",
    "        x_no[,i]=x_no[,i]+rnorm(nrow(x_no),0,1)\n",
    "    }\n",
    "\n",
    "    colnames(x_no)=paste(\"x_no\",1:(ncol(x_no)),sep=\"_\")\n",
    "    \n",
    "    ###############################\n",
    "    # Noise variables\n",
    "    p_e=p-ncol(data_x)-ncol(x_no)\n",
    "    noise_mat=nor_minmax(matrix(rnorm(n*p_e,0,1),n,p_e))\n",
    "    colnames(noise_mat)=paste(\"noise\",1:(ncol(noise_mat)),sep=\"_\")\n",
    "    \n",
    "    data=scale(cbind(data_x,x_no,noise_mat))\n",
    "    \n",
    "    ## clustering\n",
    "    kk=K\n",
    "    okm=okm_basic(data=data,k=kk,seed=seed+102)\n",
    "    okm_cluster=okm$cluster\n",
    "    \n",
    "    \n",
    "    kendall=cor(clu_k,okm$cluster,method=\"kendall\")\n",
    "    rand=rand.index(clu_k,okm$cluster)\n",
    "    \n",
    "    return(list(okm_clu=okm$cluster,cluster=clu_k,clu_no=clu_no,kendall=kendall,rand=rand))\n",
    "}"
   ]
  },
  {
   "cell_type": "markdown",
   "id": "227d8964",
   "metadata": {},
   "source": [
    "## Clustering"
   ]
  },
  {
   "cell_type": "code",
   "execution_count": 49,
   "id": "b34660d1",
   "metadata": {},
   "outputs": [],
   "source": [
    "iter_n=100\n",
    "#iter_n=5"
   ]
  },
  {
   "cell_type": "code",
   "execution_count": 50,
   "id": "9b40c67f",
   "metadata": {},
   "outputs": [
    {
     "data": {
      "text/plain": [
       "[1] \"2024-08-09 20:10:57 KST\""
      ]
     },
     "metadata": {},
     "output_type": "display_data"
    },
    {
     "data": {
      "text/plain": [
       "[1] \"2024-08-09 20:38:17 KST\""
      ]
     },
     "metadata": {},
     "output_type": "display_data"
    },
    {
     "data": {
      "text/plain": [
       "[1] \"2024-08-09 21:08:00 KST\""
      ]
     },
     "metadata": {},
     "output_type": "display_data"
    },
    {
     "data": {
      "text/plain": [
       "[1] \"2024-08-09 21:40:08 KST\""
      ]
     },
     "metadata": {},
     "output_type": "display_data"
    },
    {
     "data": {
      "text/plain": [
       "[1] \"2024-08-09 22:14:04 KST\""
      ]
     },
     "metadata": {},
     "output_type": "display_data"
    },
    {
     "data": {
      "text/plain": [
       "[1] \"2024-08-09 22:48:23 KST\""
      ]
     },
     "metadata": {},
     "output_type": "display_data"
    },
    {
     "data": {
      "text/plain": [
       "[1] \"2024-08-09 23:30:30 KST\""
      ]
     },
     "metadata": {},
     "output_type": "display_data"
    }
   ],
   "source": [
    "ss=43\n",
    "set.seed(ss)\n",
    "seed_r=round(runif(25000,1,30000))\n",
    "models_0=list()\n",
    "models_1=list()\n",
    "models_2=list()\n",
    "models_3=list()\n",
    "models_4=list()\n",
    "models_5=list()\n",
    "\n",
    "Sys.time()\n",
    "for(i in 1:iter_n){\n",
    "    seed_rr=seed_r[120*i+22]\n",
    "    models_0[[i]]=setting_K4(mu_or=0.792*(1/0.1),mu_no=5,seed=seed_rr)  \n",
    "}\n",
    "Sys.time()\n",
    "for(i in 1:iter_n){\n",
    "    seed_rr=seed_r[120*i+22]\n",
    "    models_1[[i]]=setting_K4(mu_or=0.792*(1/0.3),mu_no=5,seed=seed_rr)  \n",
    "}\n",
    "Sys.time()\n",
    "for(i in 1:iter_n){\n",
    "    seed_rr=seed_r[120*i+21]\n",
    "    models_2[[i]]=setting_K4(mu_or=0.792*(1/0.5),mu_no=5,seed=seed_rr)  \n",
    "}\n",
    "Sys.time()\n",
    "for(i in 1:iter_n){\n",
    "    seed_rr=seed_r[120*i+224]\n",
    "    models_3[[i]]=setting_K4(mu_or=0.792*(1/0.7),mu_no=5,seed=seed_rr)  \n",
    "}\n",
    "Sys.time()\n",
    "for(i in 1:iter_n){\n",
    "    seed_rr=seed_r[120*i+25]\n",
    "    models_4[[i]]=setting_K4(mu_or=0.792*(1/0.9),mu_no=5,seed=seed_rr)   \n",
    "}\n",
    "Sys.time()\n",
    "for(i in 1:iter_n){\n",
    "    seed_rr=seed_r[120*i+223]\n",
    "    models_5[[i]]=setting_K4(mu_or=0.792*(1/1.1),mu_no=5,seed=seed_rr)  \n",
    "}\n",
    "Sys.time()\n",
    "\n"
   ]
  },
  {
   "cell_type": "code",
   "execution_count": 51,
   "id": "7883bbf0",
   "metadata": {},
   "outputs": [
    {
     "data": {
      "text/plain": [
       "[1] \"2024-08-09 23:30:30 KST\""
      ]
     },
     "metadata": {},
     "output_type": "display_data"
    },
    {
     "data": {
      "text/plain": [
       "[1] \"2024-08-10 00:14:50 KST\""
      ]
     },
     "metadata": {},
     "output_type": "display_data"
    },
    {
     "data": {
      "text/plain": [
       "[1] \"2024-08-10 00:51:33 KST\""
      ]
     },
     "metadata": {},
     "output_type": "display_data"
    },
    {
     "data": {
      "text/plain": [
       "[1] \"2024-08-10 01:21:00 KST\""
      ]
     },
     "metadata": {},
     "output_type": "display_data"
    },
    {
     "data": {
      "text/plain": [
       "[1] \"2024-08-10 01:53:29 KST\""
      ]
     },
     "metadata": {},
     "output_type": "display_data"
    },
    {
     "data": {
      "text/plain": [
       "[1] \"2024-08-10 02:26:03 KST\""
      ]
     },
     "metadata": {},
     "output_type": "display_data"
    }
   ],
   "source": [
    "ss=553\n",
    "set.seed(ss)\n",
    "seed_r=round(runif(25000,1,30000))\n",
    "\n",
    "models_6=list()\n",
    "models_7=list()\n",
    "models_8=list()\n",
    "models_9=list()\n",
    "models_10=list()\n",
    "\n",
    "Sys.time()\n",
    "for(i in 1:iter_n){\n",
    "    seed_rr=seed_r[120*i+22]\n",
    "    models_6[[i]]=setting_K4(mu_or=0.792*(1/1.3),mu_no=5,seed=seed_rr)  \n",
    "}\n",
    "Sys.time()\n",
    "for(i in 1:iter_n){\n",
    "    seed_rr=seed_r[120*i+21]\n",
    "    models_7[[i]]=setting_K4(mu_or=0.792*(1/1.5),mu_no=5,seed=seed_rr)  \n",
    "}\n",
    "Sys.time()\n",
    "for(i in 1:iter_n){\n",
    "    seed_rr=seed_r[120*i+224]\n",
    "    models_8[[i]]=setting_K4(mu_or=0.792*(1/1.7),mu_no=5,seed=seed_rr)  \n",
    "}\n",
    "Sys.time()\n",
    "for(i in 1:iter_n){\n",
    "    seed_rr=seed_r[120*i+25]\n",
    "    models_9[[i]]=setting_K4(mu_or=0.792*(1/1.9),mu_no=5,seed=seed_rr)   \n",
    "}\n",
    "Sys.time()\n",
    "for(i in 1:iter_n){\n",
    "    seed_rr=seed_r[1*i+3]\n",
    "    models_10[[i]]=setting_K4(mu_or=0.792*(1/2.1),mu_no=5,seed=seed_rr)  \n",
    "}\n",
    "Sys.time()"
   ]
  },
  {
   "cell_type": "markdown",
   "id": "6fad015b",
   "metadata": {},
   "source": [
    "# Results"
   ]
  },
  {
   "cell_type": "code",
   "execution_count": 52,
   "id": "07ad0639",
   "metadata": {},
   "outputs": [],
   "source": [
    "mm_lst=list()\n",
    "mm_lst[[1]]=models_0\n",
    "mm_lst[[2]]=models_1\n",
    "mm_lst[[3]]=models_2\n",
    "mm_lst[[4]]=models_3\n",
    "mm_lst[[5]]=models_4\n",
    "mm_lst[[6]]=models_5\n",
    "mm_lst[[7]]=models_6\n",
    "mm_lst[[8]]=models_7\n",
    "mm_lst[[9]]=models_8\n",
    "mm_lst[[10]]=models_9\n",
    "mm_lst[[11]]=models_10"
   ]
  },
  {
   "cell_type": "code",
   "execution_count": 53,
   "id": "0b552309",
   "metadata": {},
   "outputs": [],
   "source": [
    "#####################################################\n",
    "# Save the results\n",
    "saveRDS(mm_lst,file=\"OKM_Simulation_CHI_ord_results.RData\")\n"
   ]
  },
  {
   "cell_type": "code",
   "execution_count": 54,
   "id": "94ad4b65",
   "metadata": {},
   "outputs": [],
   "source": [
    "rand_or_mat=matrix(0,length(mm_lst),length(mm_lst[[1]]))\n",
    "rand_no_mat=matrix(0,length(mm_lst),length(mm_lst[[1]]))\n",
    "\n",
    "for(i in 1:length(mm_lst)){\n",
    "    for(j in 1:length(mm_lst[[1]])){\n",
    "        mm=mm_lst[[i]][[j]]\n",
    "        rand_or=rand.index(mm$cluster,mm$okm_clu)\n",
    "        rand_no=rand.index(mm$clu_no,mm$okm_clu)\n",
    "        \n",
    "        rand_or_mat[i,j]=rand_or\n",
    "        rand_no_mat[i,j]=rand_no\n",
    "        \n",
    "    }\n",
    "}\n"
   ]
  },
  {
   "cell_type": "code",
   "execution_count": 56,
   "id": "57333830",
   "metadata": {},
   "outputs": [],
   "source": [
    "rand_or_lst=apply(rand_or_mat,1,mean)\n",
    "rand_no_lst=apply(rand_no_mat,1,mean)\n",
    "\n",
    "rand_okm=list()\n",
    "rand_okm[[\"or\"]]=rand_or_lst\n",
    "rand_okm[[\"no\"]]=rand_no_lst\n",
    "\n",
    "saveRDS(rand_okm,file=\"OKM_rand_CHI_ord.RData\")"
   ]
  },
  {
   "cell_type": "code",
   "execution_count": null,
   "id": "51a31578",
   "metadata": {},
   "outputs": [],
   "source": []
  }
 ],
 "metadata": {
  "kernelspec": {
   "display_name": "R",
   "language": "R",
   "name": "r"
  },
  "language_info": {
   "codemirror_mode": "r",
   "file_extension": ".r",
   "mimetype": "text/x-r-source",
   "name": "R",
   "pygments_lexer": "r",
   "version": "4.2.1"
  }
 },
 "nbformat": 4,
 "nbformat_minor": 5
}
