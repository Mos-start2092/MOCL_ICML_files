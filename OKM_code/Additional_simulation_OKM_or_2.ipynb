{
 "cells": [
  {
   "cell_type": "code",
   "execution_count": 25,
   "id": "8056d366",
   "metadata": {},
   "outputs": [],
   "source": [
    "source(\"./Ordered K-means_additional.R\")\n",
    "\n",
    "\n",
    "library(ggplot2)\n",
    "library(gridExtra)\n",
    "library(ggpubr)\n",
    "library(ggthemes)\n",
    "library(GGally)\n",
    "library(RColorBrewer)\n",
    "library(corrplot)\n",
    "library(dplyr)\n",
    "library(pdfCluster)\n",
    "library(fossil)\n",
    "options(warn=-1)\n",
    "library(Rtsne)\n",
    "library(latex2exp)"
   ]
  },
  {
   "cell_type": "markdown",
   "id": "e5206389",
   "metadata": {},
   "source": [
    "# Function"
   ]
  },
  {
   "cell_type": "code",
   "execution_count": 26,
   "id": "83f0cbdf",
   "metadata": {},
   "outputs": [],
   "source": [
    "nor_minmax = function(x){\n",
    "  xx=matrix(0,nrow(x),ncol(x))\n",
    "  colnames(xx)=colnames(x)\n",
    "  for(i in 1:ncol(x)){\n",
    "    xx[,i]=(x[,i] - min(x[,i])) / (max(x[,i]) - min(x[,i]))\n",
    "  }\n",
    "  return(xx)\n",
    "}\n",
    "\n",
    "setting_K7_unbalanced<-function(mu_or=1,n_k_lst=21*abs(c(1:7)-4)+20,\n",
    "                                p=20,seed=1234,mu_no=1){\n",
    "    set.seed(seed)\n",
    "    K=length(n_k_lst)\n",
    "    n=sum(n_k_lst)\n",
    "    \n",
    "    for(i in 1:K){\n",
    "        if(i==1){\n",
    "            clu_k=c(rep(i,n_k_lst[i]))\n",
    "        }else{\n",
    "            clu_k=c(clu_k,rep(i,n_k_lst[i]))\n",
    "        }\n",
    "    }\n",
    "    \n",
    "    mu_1=mu_or*(1/3)*(clu_k)^2\n",
    "    mu_2=mu_or*(-10)*(clu_k)^(1/2)\n",
    "    \n",
    "    # Data generation\n",
    "    x1=mu_1+rnorm(n,0,(1+1/clu_k))\n",
    "    x2=mu_2+rnorm(n,0,(1+1/clu_k))\n",
    "    \n",
    "    data_x=scale(cbind(x1,x2))\n",
    "    \n",
    "    ############################\n",
    "    # Data corresponding to nominal clusters\n",
    "    mu_no_mat=diag(K)\n",
    "    \n",
    "    # Nominal cluster generation\n",
    "    x_no=matrix(0,n,ncol(mu_no_mat))\n",
    "    p_lst=runif(n,0,1)\n",
    "    clu_no=p_lst*0\n",
    "    for(i in 1:K){\n",
    "        clu_no=clu_no+(p_lst>=((i-1)/8))\n",
    "    }\n",
    "    #clu_no\n",
    "    for(i in 1:nrow(x_no)){\n",
    "        x_no[i,]=mu_no*mu_no_mat[clu_no[i],]\n",
    "    }\n",
    "\n",
    "    for(i in 1:ncol(x_no)){\n",
    "        x_no[,i]=x_no[,i]+rnorm(nrow(x_no),0,1)\n",
    "    }\n",
    "\n",
    "    colnames(x_no)=paste(\"x_no\",1:(ncol(x_no)),sep=\"_\")\n",
    "    \n",
    "    ###############################\n",
    "    # Noise variables\n",
    "    p_e=p-ncol(data_x)-ncol(x_no)\n",
    "    noise_mat=nor_minmax(matrix(rnorm(n*p_e,0,1),n,p_e))\n",
    "    colnames(noise_mat)=paste(\"noise\",1:(ncol(noise_mat)),sep=\"_\")\n",
    "    \n",
    "    data=scale(cbind(data_x,x_no,noise_mat))\n",
    "    \n",
    "    ## clustering\n",
    "    kk=K\n",
    "    okm=okm_basic(data=data,k=kk,seed=seed+102)\n",
    "    okm_cluster=okm$cluster\n",
    "    \n",
    "    \n",
    "    kendall=cor(clu_k,okm$cluster,method=\"kendall\")\n",
    "    rand=rand.index(clu_k,okm$cluster)\n",
    "    \n",
    "    return(list(okm_clu=okm$cluster,cluster=clu_k,clu_no=clu_no,kendall=kendall,rand=rand))\n",
    "}"
   ]
  },
  {
   "cell_type": "markdown",
   "id": "c4326f1b",
   "metadata": {},
   "source": [
    "# Second 50 iterations"
   ]
  },
  {
   "cell_type": "code",
   "execution_count": 35,
   "id": "96c1dd8e",
   "metadata": {},
   "outputs": [],
   "source": [
    "iter_n=50"
   ]
  },
  {
   "cell_type": "code",
   "execution_count": 36,
   "id": "0e3926e7",
   "metadata": {},
   "outputs": [
    {
     "data": {
      "text/plain": [
       "[1] \"2024-08-10 12:58:08 KST\""
      ]
     },
     "metadata": {},
     "output_type": "display_data"
    },
    {
     "data": {
      "text/plain": [
       "[1] \"2024-08-10 13:36:19 KST\""
      ]
     },
     "metadata": {},
     "output_type": "display_data"
    },
    {
     "data": {
      "text/plain": [
       "[1] \"2024-08-10 14:17:19 KST\""
      ]
     },
     "metadata": {},
     "output_type": "display_data"
    },
    {
     "data": {
      "text/plain": [
       "[1] \"2024-08-10 15:06:42 KST\""
      ]
     },
     "metadata": {},
     "output_type": "display_data"
    },
    {
     "data": {
      "text/plain": [
       "[1] \"2024-08-10 15:56:46 KST\""
      ]
     },
     "metadata": {},
     "output_type": "display_data"
    },
    {
     "data": {
      "text/plain": [
       "[1] \"2024-08-10 16:42:19 KST\""
      ]
     },
     "metadata": {},
     "output_type": "display_data"
    },
    {
     "data": {
      "text/plain": [
       "[1] \"2024-08-10 17:27:12 KST\""
      ]
     },
     "metadata": {},
     "output_type": "display_data"
    },
    {
     "data": {
      "text/plain": [
       "[1] \"2024-08-10 18:05:48 KST\""
      ]
     },
     "metadata": {},
     "output_type": "display_data"
    },
    {
     "data": {
      "text/plain": [
       "[1] \"2024-08-10 18:40:09 KST\""
      ]
     },
     "metadata": {},
     "output_type": "display_data"
    },
    {
     "data": {
      "text/plain": [
       "[1] \"2024-08-10 19:04:41 KST\""
      ]
     },
     "metadata": {},
     "output_type": "display_data"
    },
    {
     "data": {
      "text/plain": [
       "[1] \"2024-08-10 19:04:41 KST\""
      ]
     },
     "metadata": {},
     "output_type": "display_data"
    },
    {
     "data": {
      "text/plain": [
       "[1] \"2024-08-10 19:29:52 KST\""
      ]
     },
     "metadata": {},
     "output_type": "display_data"
    },
    {
     "data": {
      "text/plain": [
       "[1] \"2024-08-10 19:56:35 KST\""
      ]
     },
     "metadata": {},
     "output_type": "display_data"
    }
   ],
   "source": [
    "ss=612\n",
    "set.seed(ss)\n",
    "seed_r=seed_r=round(runif(20000,1,30000))\n",
    "mu_ord=0.325\n",
    "\n",
    "models_0=list()\n",
    "models_1=list()\n",
    "models_2=list()\n",
    "models_3=list()\n",
    "models_4=list()\n",
    "models_5=list()\n",
    "\n",
    "models_6=list()\n",
    "models_7=list()\n",
    "models_8=list()\n",
    "models_9=list()\n",
    "models_10=list()\n",
    "\n",
    "Sys.time()\n",
    "for(i in 1:iter_n){\n",
    "    seed_rr=seed_r[1*i+2002]\n",
    "    models_0[[i]]=setting_K7_unbalanced(mu_or=mu_ord*(1/0.1),seed=seed_rr,mu_no=4)   \n",
    "}\n",
    "Sys.time()\n",
    "for(i in 1:iter_n){\n",
    "    seed_rr=seed_r[10*i+2]\n",
    "    models_1[[i]]=setting_K7_unbalanced(mu_or=mu_ord*(1/0.3),seed=seed_rr,mu_no=4)   \n",
    "}\n",
    "Sys.time()\n",
    "for(i in 1:iter_n){\n",
    "    seed_rr=seed_r[11*i+21]\n",
    "    models_2[[i]]=setting_K7_unbalanced(mu_or=mu_ord*(1/0.5),seed=seed_rr,mu_no=4)   \n",
    "}\n",
    "Sys.time()\n",
    "for(i in 1:iter_n){\n",
    "    seed_rr=seed_r[10*i+147]\n",
    "    models_3[[i]]=setting_K7_unbalanced(mu_or=mu_ord*(1/0.7),seed=seed_rr,mu_no=4)   \n",
    "}\n",
    "Sys.time()\n",
    "for(i in 1:iter_n){\n",
    "    seed_rr=seed_r[10*i+1002]\n",
    "    models_4[[i]]=setting_K7_unbalanced(mu_or=mu_ord*(1/0.9),seed=seed_rr,mu_no=4)   \n",
    "}\n",
    "Sys.time()\n",
    "for(i in 1:iter_n){\n",
    "    seed_rr=seed_r[10*i+2000]\n",
    "    models_5[[i]]=setting_K7_unbalanced(mu_or=mu_ord*(1/1.1),seed=seed_rr,mu_no=4)   \n",
    "}\n",
    "Sys.time()\n",
    "for(i in 1:iter_n){\n",
    "    seed_rr=seed_r[10*i+232]\n",
    "    models_6[[i]]=setting_K7_unbalanced(mu_or=mu_ord*(1/1.3),seed=seed_rr,mu_no=4)   \n",
    "}\n",
    "Sys.time()\n",
    "for(i in 1:iter_n){\n",
    "    seed_rr=seed_r[31*i+81]\n",
    "    models_7[[i]]=setting_K7_unbalanced(mu_or=mu_ord*(1/1.5),seed=seed_rr,mu_no=4)   \n",
    "}\n",
    "\n",
    "Sys.time()\n",
    "for(i in 1:iter_n){\n",
    "    seed_rr=seed_r[19*(i-12)+6501]\n",
    "    models_8[[i]]=setting_K7_unbalanced(mu_or=mu_ord*(1/1.7),seed=seed_rr,mu_no=4)   \n",
    "}\n",
    "Sys.time()\n",
    "\n",
    "Sys.time()\n",
    "for(i in 1:iter_n){\n",
    "    seed_rr=seed_r[i+122]\n",
    "    \n",
    "    models_9[[i]]=setting_K7_unbalanced(mu_or=mu_ord*(1/1.9),seed=seed_rr,mu_no=4)   \n",
    "}\n",
    "Sys.time()\n",
    "for(i in 1:iter_n){\n",
    "    seed_rr=seed_r[1*i+4400]\n",
    "    models_10[[i]]=setting_K7_unbalanced(mu_or=mu_ord*(1/2.1),seed=seed_rr,mu_no=4)   \n",
    "}\n",
    "Sys.time()\n"
   ]
  },
  {
   "cell_type": "code",
   "execution_count": 37,
   "id": "6520bd27",
   "metadata": {},
   "outputs": [
    {
     "data": {
      "text/html": [
       "50"
      ],
      "text/latex": [
       "50"
      ],
      "text/markdown": [
       "50"
      ],
      "text/plain": [
       "[1] 50"
      ]
     },
     "metadata": {},
     "output_type": "display_data"
    }
   ],
   "source": [
    "length(models_10)"
   ]
  },
  {
   "cell_type": "markdown",
   "id": "932ec351",
   "metadata": {},
   "source": [
    "# List"
   ]
  },
  {
   "cell_type": "code",
   "execution_count": 38,
   "id": "3edcab8e",
   "metadata": {},
   "outputs": [],
   "source": [
    "mm_lst_or_2=list()\n",
    "mm_lst_or_2[[1]]=models_0\n",
    "mm_lst_or_2[[2]]=models_1\n",
    "mm_lst_or_2[[3]]=models_2\n",
    "mm_lst_or_2[[4]]=models_3\n",
    "mm_lst_or_2[[5]]=models_4\n",
    "mm_lst_or_2[[6]]=models_5\n",
    "mm_lst_or_2[[7]]=models_6\n",
    "mm_lst_or_2[[8]]=models_7\n",
    "mm_lst_or_2[[9]]=models_8\n",
    "mm_lst_or_2[[10]]=models_9\n",
    "mm_lst_or_2[[11]]=models_10\n",
    "\n",
    "saveRDS(mm_lst_or_2,file=\"OKM_add_simul_or_2.RData\")"
   ]
  },
  {
   "cell_type": "markdown",
   "id": "c41b39b3",
   "metadata": {},
   "source": [
    "# Results with the Additional_simulation_or_1\n"
   ]
  },
  {
   "cell_type": "markdown",
   "id": "da288e5b",
   "metadata": {},
   "source": [
    "## Load additional_simulation_or_1 results"
   ]
  },
  {
   "cell_type": "code",
   "execution_count": 46,
   "id": "b4aed35b",
   "metadata": {},
   "outputs": [],
   "source": [
    "mm_lst_or_1=readRDS(\"OKM_add_simul_or_1.RData\")"
   ]
  },
  {
   "cell_type": "markdown",
   "id": "1b580416",
   "metadata": {},
   "source": [
    "### Combine the results of  additional_simulation_or_1  and 2."
   ]
  },
  {
   "cell_type": "code",
   "execution_count": 47,
   "id": "1ce151b4",
   "metadata": {},
   "outputs": [],
   "source": [
    "mm_lst=list()\n",
    "for(i in 1:length(mm_lst_or_1)){\n",
    "    m=list()\n",
    "    m_1=mm_lst_or_1[[i]]\n",
    "    m_2=mm_lst_or_2[[i]]\n",
    "    \n",
    "    l_1=length(m_1)\n",
    "    l_2=length(m_2)\n",
    "               \n",
    "    for(j in 1:l_1){\n",
    "        m[[j]]=m_1[[j]]\n",
    "    }\n",
    "    for(j in 1:l_2){\n",
    "        m[[j+l_2]]=m_2[[j]]\n",
    "    }\n",
    "    \n",
    "    mm_lst[[i]]=m\n",
    "}\n",
    "    \n",
    "saveRDS(mm_lst,file=\"OKM_simul_add_K7_CHI_ord.RData\")"
   ]
  },
  {
   "cell_type": "markdown",
   "id": "3ef44cb5",
   "metadata": {},
   "source": [
    "### Rand index"
   ]
  },
  {
   "cell_type": "code",
   "execution_count": 48,
   "id": "84c090e8",
   "metadata": {},
   "outputs": [],
   "source": [
    "rand_or_mat=matrix(0,length(mm_lst),length(mm_lst[[1]]))\n",
    "rand_no_mat=matrix(0,length(mm_lst),length(mm_lst[[1]]))\n",
    "\n",
    "for(i in 1:length(mm_lst)){\n",
    "    for(j in 1:length(mm_lst[[1]])){\n",
    "        mm=mm_lst[[i]][[j]]\n",
    "        rand_or=rand.index(mm$cluster,mm$okm_clu)\n",
    "        rand_no=rand.index(mm$clu_no,mm$okm_clu)\n",
    "        \n",
    "        rand_or_mat[i,j]=rand_or\n",
    "        rand_no_mat[i,j]=rand_no\n",
    "        \n",
    "    }\n",
    "}\n",
    "\n",
    "rand_or_lst=apply(rand_or_mat,1,mean)\n",
    "rand_no_lst=apply(rand_no_mat,1,mean)\n",
    "\n",
    "rand_okm=list()\n",
    "rand_okm[[\"or\"]]=rand_or_lst\n",
    "rand_okm[[\"no\"]]=rand_no_lst\n",
    "\n",
    "saveRDS(rand_okm,file=\"OKM_rand_add_K7_CHI_ord.RData\")"
   ]
  },
  {
   "cell_type": "code",
   "execution_count": 49,
   "id": "fc8ce24f",
   "metadata": {},
   "outputs": [
    {
     "data": {
      "text/html": [
       "<dl>\n",
       "\t<dt>$or</dt>\n",
       "\t\t<dd><style>\n",
       ".list-inline {list-style: none; margin:0; padding: 0}\n",
       ".list-inline>li {display: inline-block}\n",
       ".list-inline>li:not(:last-child)::after {content: \"\\00b7\"; padding: 0 .5ex}\n",
       "</style>\n",
       "<ol class=list-inline><li>0.932519703533587</li><li>0.886898194060233</li><li>0.855124484576439</li><li>0.825133357690902</li><li>0.809321598204499</li><li>0.795359100161804</li><li>0.784101988621536</li><li>0.776314525810324</li><li>0.768355342136855</li><li>0.764435121874837</li><li>0.758817527010804</li></ol>\n",
       "</dd>\n",
       "\t<dt>$no</dt>\n",
       "\t\t<dd><style>\n",
       ".list-inline {list-style: none; margin:0; padding: 0}\n",
       ".list-inline>li {display: inline-block}\n",
       ".list-inline>li:not(:last-child)::after {content: \"\\00b7\"; padding: 0 .5ex}\n",
       "</style>\n",
       "<ol class=list-inline><li>0.729196200219218</li><li>0.726113967326061</li><li>0.73313129599666</li><li>0.730769612192703</li><li>0.73060819980166</li><li>0.730203037736834</li><li>0.729123257998852</li><li>0.728190667571376</li><li>0.728441985489848</li><li>0.72797823477217</li><li>0.72849104859335</li></ol>\n",
       "</dd>\n",
       "</dl>\n"
      ],
      "text/latex": [
       "\\begin{description}\n",
       "\\item[\\$or] \\begin{enumerate*}\n",
       "\\item 0.932519703533587\n",
       "\\item 0.886898194060233\n",
       "\\item 0.855124484576439\n",
       "\\item 0.825133357690902\n",
       "\\item 0.809321598204499\n",
       "\\item 0.795359100161804\n",
       "\\item 0.784101988621536\n",
       "\\item 0.776314525810324\n",
       "\\item 0.768355342136855\n",
       "\\item 0.764435121874837\n",
       "\\item 0.758817527010804\n",
       "\\end{enumerate*}\n",
       "\n",
       "\\item[\\$no] \\begin{enumerate*}\n",
       "\\item 0.729196200219218\n",
       "\\item 0.726113967326061\n",
       "\\item 0.73313129599666\n",
       "\\item 0.730769612192703\n",
       "\\item 0.73060819980166\n",
       "\\item 0.730203037736834\n",
       "\\item 0.729123257998852\n",
       "\\item 0.728190667571376\n",
       "\\item 0.728441985489848\n",
       "\\item 0.72797823477217\n",
       "\\item 0.72849104859335\n",
       "\\end{enumerate*}\n",
       "\n",
       "\\end{description}\n"
      ],
      "text/markdown": [
       "$or\n",
       ":   1. 0.932519703533587\n",
       "2. 0.886898194060233\n",
       "3. 0.855124484576439\n",
       "4. 0.825133357690902\n",
       "5. 0.809321598204499\n",
       "6. 0.795359100161804\n",
       "7. 0.784101988621536\n",
       "8. 0.776314525810324\n",
       "9. 0.768355342136855\n",
       "10. 0.764435121874837\n",
       "11. 0.758817527010804\n",
       "\n",
       "\n",
       "\n",
       "$no\n",
       ":   1. 0.729196200219218\n",
       "2. 0.726113967326061\n",
       "3. 0.73313129599666\n",
       "4. 0.730769612192703\n",
       "5. 0.73060819980166\n",
       "6. 0.730203037736834\n",
       "7. 0.729123257998852\n",
       "8. 0.728190667571376\n",
       "9. 0.728441985489848\n",
       "10. 0.72797823477217\n",
       "11. 0.72849104859335\n",
       "\n",
       "\n",
       "\n",
       "\n",
       "\n"
      ],
      "text/plain": [
       "$or\n",
       " [1] 0.9325197 0.8868982 0.8551245 0.8251334 0.8093216 0.7953591 0.7841020\n",
       " [8] 0.7763145 0.7683553 0.7644351 0.7588175\n",
       "\n",
       "$no\n",
       " [1] 0.7291962 0.7261140 0.7331313 0.7307696 0.7306082 0.7302030 0.7291233\n",
       " [8] 0.7281907 0.7284420 0.7279782 0.7284910\n"
      ]
     },
     "metadata": {},
     "output_type": "display_data"
    }
   ],
   "source": [
    "rand_okm"
   ]
  },
  {
   "cell_type": "code",
   "execution_count": null,
   "id": "a8474878",
   "metadata": {},
   "outputs": [],
   "source": []
  }
 ],
 "metadata": {
  "kernelspec": {
   "display_name": "R",
   "language": "R",
   "name": "r"
  },
  "language_info": {
   "codemirror_mode": "r",
   "file_extension": ".r",
   "mimetype": "text/x-r-source",
   "name": "R",
   "pygments_lexer": "r",
   "version": "4.2.1"
  }
 },
 "nbformat": 4,
 "nbformat_minor": 5
}
