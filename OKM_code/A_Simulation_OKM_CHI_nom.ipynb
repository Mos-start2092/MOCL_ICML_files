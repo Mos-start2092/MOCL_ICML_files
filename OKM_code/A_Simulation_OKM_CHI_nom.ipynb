{
 "cells": [
  {
   "cell_type": "code",
   "execution_count": 81,
   "id": "cff9d356",
   "metadata": {},
   "outputs": [],
   "source": [
    "source(\"./Ordered K-means.R\")\n",
    "\n",
    "\n",
    "library(ggplot2)\n",
    "library(gridExtra)\n",
    "library(ggpubr)\n",
    "library(ggthemes)\n",
    "library(GGally)\n",
    "library(RColorBrewer)\n",
    "library(corrplot)\n",
    "library(dplyr)\n",
    "library(pdfCluster)\n",
    "library(fossil)\n",
    "options(warn=-1)\n",
    "library(Rtsne)\n",
    "library(latex2exp)"
   ]
  },
  {
   "cell_type": "code",
   "execution_count": null,
   "id": "e9502837",
   "metadata": {},
   "outputs": [],
   "source": []
  },
  {
   "cell_type": "code",
   "execution_count": 82,
   "id": "78e98cdb",
   "metadata": {},
   "outputs": [],
   "source": [
    "nor_minmax = function(x){\n",
    "  xx=matrix(0,nrow(x),ncol(x))\n",
    "  colnames(xx)=colnames(x)\n",
    "  for(i in 1:ncol(x)){\n",
    "    xx[,i]=(x[,i] - min(x[,i])) / (max(x[,i]) - min(x[,i]))\n",
    "  }\n",
    "  return(xx)\n",
    "}"
   ]
  },
  {
   "cell_type": "markdown",
   "id": "71bdd79e",
   "metadata": {},
   "source": [
    "# CHR"
   ]
  },
  {
   "cell_type": "code",
   "execution_count": 83,
   "id": "e3e3f55c",
   "metadata": {},
   "outputs": [
    {
     "data": {
      "text/html": [
       "1.00141775612715"
      ],
      "text/latex": [
       "1.00141775612715"
      ],
      "text/markdown": [
       "1.00141775612715"
      ],
      "text/plain": [
       "[1] 1.001418"
      ]
     },
     "metadata": {},
     "output_type": "display_data"
    }
   ],
   "source": [
    "clu_kk=c(1:4)\n",
    "mu_or=1\n",
    "\n",
    "x1=mu_or*2*clu_kk\n",
    "x2=-mu_or*(1/10)*exp(clu_kk)\n",
    "x3=mu_or*7*log(clu_kk)\n",
    "\n",
    "mu_mat_or=cbind(x1,x2,x3)\n",
    "mu_v_or=apply(mu_mat_or,2,mean)\n",
    "\n",
    "for(i in 1:4){\n",
    "    if(i==1){\n",
    "        m_or=mu_mat_or[i,]%*%t(mu_mat_or[i,])\n",
    "    }else{\n",
    "        m_or=m_or+mu_mat_or[i,]%*%t(mu_mat_or[i,])\n",
    "    }\n",
    "}\n",
    "bc_or=sum(diag(m_or/4-mu_v_or%*%t(mu_v_or)))\n",
    "wc_or=sum(diag(4^(-1)*4*diag(3)))\n",
    "\n",
    "CHI_or=bc_or/wc_or\n",
    "\n",
    "\n",
    "###################################\n",
    "mu_no=6.32\n",
    "mu_mat_no=mu_no*diag(4)\n",
    "mu_v_no=apply(mu_mat_no,2,mean)\n",
    "\n",
    "for(i in 1:4){\n",
    "    if(i==1){\n",
    "        m_no=mu_mat_no[i,]%*%t(mu_mat_no[i,])\n",
    "    }else{\n",
    "        m_no=m_no+mu_mat_no[i,]%*%t(mu_mat_no[i,])\n",
    "    }\n",
    "}\n",
    "bc_no=sum(diag(m_no/4-mu_v_no%*%t(mu_v_no)))\n",
    "wc_no=sum(diag(4^(-1)*4*diag(4)))\n",
    "\n",
    "CHI_no=bc_no/wc_no\n",
    "\n",
    "\n",
    "sqrt(CHI_no/CHI_or)"
   ]
  },
  {
   "cell_type": "markdown",
   "id": "67976d15",
   "metadata": {},
   "source": [
    "# Simulation setting function"
   ]
  },
  {
   "cell_type": "code",
   "execution_count": 84,
   "id": "ea2af6bc",
   "metadata": {},
   "outputs": [],
   "source": [
    "setting_K4<-function(mu_or=1,n_k_lst=c(50,50,50,50),\n",
    "                                p=20,seed=1234,mu_no=10){\n",
    "    set.seed(seed)\n",
    "    K=length(n_k_lst)\n",
    "    n=sum(n_k_lst)\n",
    "    \n",
    "    for(i in 1:K){\n",
    "        if(i==1){\n",
    "            clu_k=c(rep(i,n_k_lst[i]))\n",
    "        }else{\n",
    "            clu_k=c(clu_k,rep(i,n_k_lst[i]))\n",
    "        }\n",
    "    }\n",
    "    \n",
    "    mu_1=mu_or*(2*clu_k)\n",
    "    mu_2=-mu_or*(exp(clu_k)/10)\n",
    "    mu_3=mu_or*(7*log(clu_k))\n",
    "    \n",
    "    \n",
    "    # Data generation\n",
    "    x1=mu_1+rnorm(n,0,1)\n",
    "    x2=mu_2+rnorm(n,0,1)\n",
    "    x3=mu_3+rnorm(n,0,1)\n",
    "    \n",
    "    data_x=scale(cbind(x1,x2,x3))\n",
    "    \n",
    "    ############################\n",
    "    # Data corresponding to nominal clusters\n",
    "    mu_no_mat=diag(K)\n",
    "    \n",
    "    # Nominal cluster generation\n",
    "    x_no=matrix(0,n,ncol(mu_no_mat))\n",
    "    p_lst=runif(n,0,1)\n",
    "    clu_no=p_lst*0\n",
    "    for(i in 1:K){\n",
    "        clu_no=clu_no+(p_lst>=((i-1)/K))\n",
    "    }\n",
    "    #clu_no\n",
    "    for(i in 1:nrow(x_no)){\n",
    "        x_no[i,]=mu_no*mu_no_mat[clu_no[i],]\n",
    "    }\n",
    "\n",
    "    for(i in 1:ncol(x_no)){\n",
    "        x_no[,i]=x_no[,i]+rnorm(nrow(x_no),0,1)\n",
    "    }\n",
    "\n",
    "    colnames(x_no)=paste(\"x_no\",1:(ncol(x_no)),sep=\"_\")\n",
    "    \n",
    "    ###############################\n",
    "    # Noise variables\n",
    "    p_e=p-ncol(data_x)-ncol(x_no)\n",
    "    noise_mat=nor_minmax(matrix(rnorm(n*p_e,0,1),n,p_e))\n",
    "    colnames(noise_mat)=paste(\"noise\",1:(ncol(noise_mat)),sep=\"_\")\n",
    "    \n",
    "    data=scale(cbind(data_x,x_no,noise_mat))\n",
    "    \n",
    "    ## clustering\n",
    "    kk=K\n",
    "    okm=okm_basic(data=data,k=kk,seed=seed+102)\n",
    "    okm_cluster=okm$cluster\n",
    "    \n",
    "    \n",
    "    kendall=cor(clu_k,okm$cluster,method=\"kendall\")\n",
    "    rand=rand.index(clu_k,okm$cluster)\n",
    "    \n",
    "    return(list(okm_clu=okm$cluster,cluster=clu_k,clu_no=clu_no,kendall=kendall,rand=rand))\n",
    "}"
   ]
  },
  {
   "cell_type": "markdown",
   "id": "3bae8fb2",
   "metadata": {},
   "source": [
    "# Iteration"
   ]
  },
  {
   "cell_type": "code",
   "execution_count": 88,
   "id": "0235b336",
   "metadata": {},
   "outputs": [],
   "source": [
    "iter_n=100\n",
    "#iter_n=5"
   ]
  },
  {
   "cell_type": "code",
   "execution_count": 89,
   "id": "6b63afdb",
   "metadata": {},
   "outputs": [
    {
     "data": {
      "text/plain": [
       "[1] \"2024-08-09 20:10:46 KST\""
      ]
     },
     "metadata": {},
     "output_type": "display_data"
    },
    {
     "data": {
      "text/plain": [
       "[1] \"2024-08-09 20:50:04 KST\""
      ]
     },
     "metadata": {},
     "output_type": "display_data"
    },
    {
     "data": {
      "text/plain": [
       "[1] \"2024-08-09 21:27:06 KST\""
      ]
     },
     "metadata": {},
     "output_type": "display_data"
    },
    {
     "data": {
      "text/plain": [
       "[1] \"2024-08-09 22:05:11 KST\""
      ]
     },
     "metadata": {},
     "output_type": "display_data"
    },
    {
     "data": {
      "text/plain": [
       "[1] \"2024-08-09 22:42:06 KST\""
      ]
     },
     "metadata": {},
     "output_type": "display_data"
    },
    {
     "data": {
      "text/plain": [
       "[1] \"2024-08-09 23:21:03 KST\""
      ]
     },
     "metadata": {},
     "output_type": "display_data"
    },
    {
     "data": {
      "text/plain": [
       "[1] \"2024-08-09 23:57:57 KST\""
      ]
     },
     "metadata": {},
     "output_type": "display_data"
    },
    {
     "data": {
      "text/plain": [
       "[1] \"2024-08-10 00:36:05 KST\""
      ]
     },
     "metadata": {},
     "output_type": "display_data"
    },
    {
     "data": {
      "text/plain": [
       "[1] \"2024-08-10 01:14:50 KST\""
      ]
     },
     "metadata": {},
     "output_type": "display_data"
    },
    {
     "data": {
      "text/plain": [
       "[1] \"2024-08-10 01:56:38 KST\""
      ]
     },
     "metadata": {},
     "output_type": "display_data"
    },
    {
     "data": {
      "text/plain": [
       "[1] \"2024-08-10 02:32:42 KST\""
      ]
     },
     "metadata": {},
     "output_type": "display_data"
    },
    {
     "data": {
      "text/plain": [
       "[1] \"2024-08-10 03:10:23 KST\""
      ]
     },
     "metadata": {},
     "output_type": "display_data"
    }
   ],
   "source": [
    "ss=11021\n",
    "set.seed(ss)\n",
    "seed_r=round(runif(20000,1,30000))\n",
    "\n",
    "models_or=list()\n",
    "\n",
    "models_0=list()\n",
    "models_1=list()\n",
    "models_2=list()\n",
    "models_3=list()\n",
    "models_4=list()\n",
    "models_5=list()\n",
    "models_6=list()\n",
    "models_7=list()\n",
    "models_8=list()\n",
    "models_9=list()\n",
    "models_10=list()\n",
    "models_11=list()\n",
    "\n",
    "ss=11021\n",
    "set.seed(ss)\n",
    "seed_r=round(runif(20000,1,30000))\n",
    "\n",
    "models_or=list()\n",
    "\n",
    "\n",
    "models_0=list()\n",
    "models_1=list()\n",
    "models_2=list()\n",
    "models_3=list()\n",
    "models_4=list()\n",
    "models_5=list()\n",
    "models_6=list()\n",
    "models_7=list()\n",
    "models_8=list()\n",
    "models_9=list()\n",
    "models_10=list()\n",
    "models_11=list()\n",
    "\n",
    "Sys.time()\n",
    "\n",
    "for(i in 1:iter_n){\n",
    "    seed_rr=seed_r[110*i+102]\n",
    "    models_0[[i]]=setting_K4(mu_or=1,p=20,seed=seed_rr,mu_no=6.32*0)\n",
    "}\n",
    "\n",
    "Sys.time()\n",
    "\n",
    "for(i in 1:iter_n){\n",
    "    seed_rr=seed_r[110*i+1002]\n",
    "    models_1[[i]]=setting_K4(mu_or=1,p=20,seed=seed_rr,mu_no=6.32*0.2)  \n",
    "}\n",
    "Sys.time()\n",
    "\n",
    "for(i in 1:iter_n){\n",
    "    seed_rr=seed_r[11*i+2100]+33 \n",
    "    models_2[[i]]=setting_K4(mu_or=1,p=20,seed=seed_rr,mu_no=6.32*0.4)  \n",
    "}\n",
    "Sys.time()\n",
    "\n",
    "for(i in 1:iter_n){\n",
    "    seed_rr=seed_r[17*i+20]\n",
    "    models_3[[i]]=setting_K4(mu_or=1,p=20,seed=seed_rr,mu_no=6.32*0.6)\n",
    "}\n",
    "Sys.time()\n",
    "\n",
    "for(i in 1:iter_n){\n",
    "    seed_rr=seed_r[14*i+203];\n",
    "    models_4[[i]]=setting_K4(mu_or=1,p=20,seed=seed_rr,mu_no=6.32*0.8)\n",
    "}\n",
    "Sys.time()\n",
    "\n",
    "for(i in 1:iter_n){\n",
    "    seed_rr=seed_r[i+7000];\n",
    "    models_5[[i]]=setting_K4(mu_or=1,p=20,seed=seed_rr,mu_no=6.32*1.0)\n",
    "}\n",
    "Sys.time()\n",
    "\n",
    "\n",
    "for(i in 1:iter_n){\n",
    "    seed_rr=seed_r[i+8000];\n",
    "    models_6[[i]]=setting_K4(mu_or=1,p=20,seed=seed_rr,mu_no=6.32*1.2)\n",
    "}\n",
    "Sys.time()\n",
    "\n",
    "for(i in 1:iter_n){\n",
    "    seed_rr=seed_r[300+3*i];\n",
    "    models_7[[i]]=setting_K4(mu_or=1,p=20,seed=seed_rr,mu_no=6.32*1.4)\n",
    "}\n",
    "Sys.time()\n",
    "\n",
    "\n",
    "for(i in 1:iter_n){\n",
    "    seed_rr=seed_r[70+10*i];\n",
    "    models_8[[i]]=setting_K4(mu_or=1,p=20,seed=seed_rr,mu_no=6.32*1.6)\n",
    "}\n",
    "Sys.time()\n",
    "\n",
    "for(i in 1:iter_n){\n",
    "    seed_rr=seed_r[2000+7*i];\n",
    "    models_9[[i]]=setting_K4(mu_or=1,p=20,seed=seed_rr,mu_no=6.32*1.8)\n",
    "}\n",
    "Sys.time()\n",
    "\n",
    "for(i in 1:iter_n){\n",
    "    seed_rr=seed_r[120+5*i];\n",
    "    models_10[[i]]=setting_K4(mu_or=1,p=20,seed=seed_rr,mu_no=6.32*2)\n",
    "}\n",
    "Sys.time()\n",
    "\n"
   ]
  },
  {
   "cell_type": "markdown",
   "id": "e4d023fe",
   "metadata": {},
   "source": [
    "# Results"
   ]
  },
  {
   "cell_type": "code",
   "execution_count": 96,
   "id": "e28f2b73",
   "metadata": {},
   "outputs": [],
   "source": [
    "mm_lst=list()\n",
    "mm_lst[[1]]=models_0\n",
    "mm_lst[[2]]=models_1\n",
    "mm_lst[[3]]=models_2\n",
    "mm_lst[[4]]=models_3\n",
    "mm_lst[[5]]=models_4\n",
    "mm_lst[[6]]=models_5\n",
    "mm_lst[[7]]=models_6\n",
    "mm_lst[[8]]=models_7\n",
    "mm_lst[[9]]=models_8\n",
    "mm_lst[[10]]=models_9\n",
    "mm_lst[[11]]=models_10\n",
    "\n",
    "# Save the results\n",
    "saveRDS(mm_lst,file=\"OKM_Simulation_CHI_nom_results.RData\")"
   ]
  },
  {
   "cell_type": "code",
   "execution_count": 97,
   "id": "086453ed",
   "metadata": {},
   "outputs": [],
   "source": [
    "rand_or_mat=matrix(0,length(mm_lst),length(mm_lst[[1]]))\n",
    "rand_no_mat=matrix(0,length(mm_lst),length(mm_lst[[1]]))\n",
    "\n",
    "for(i in 1:length(mm_lst)){\n",
    "    for(j in 1:length(mm_lst[[1]])){\n",
    "        mm=mm_lst[[i]][[j]]\n",
    "        rand_or=rand.index(mm$cluster,mm$okm_clu)\n",
    "        rand_no=rand.index(mm$clu_no,mm$okm_clu)\n",
    "        \n",
    "        rand_or_mat[i,j]=rand_or\n",
    "        rand_no_mat[i,j]=rand_no\n",
    "        \n",
    "    }\n",
    "}\n"
   ]
  },
  {
   "cell_type": "code",
   "execution_count": 98,
   "id": "bd157efc",
   "metadata": {},
   "outputs": [],
   "source": [
    "rand_or_lst=apply(rand_or_mat,1,mean)\n",
    "rand_no_lst=apply(rand_no_mat,1,mean)\n",
    "\n",
    "rand_okm=list()\n",
    "rand_okm[[\"or\"]]=rand_or_lst\n",
    "rand_okm[[\"no\"]]=rand_no_lst\n",
    "\n",
    "saveRDS(rand_okm,file=\"OKM_rand_CHI_nom.RData\")"
   ]
  },
  {
   "cell_type": "code",
   "execution_count": null,
   "id": "a2c7127e",
   "metadata": {},
   "outputs": [],
   "source": []
  }
 ],
 "metadata": {
  "kernelspec": {
   "display_name": "R",
   "language": "R",
   "name": "r"
  },
  "language_info": {
   "codemirror_mode": "r",
   "file_extension": ".r",
   "mimetype": "text/x-r-source",
   "name": "R",
   "pygments_lexer": "r",
   "version": "4.2.1"
  }
 },
 "nbformat": 4,
 "nbformat_minor": 5
}
