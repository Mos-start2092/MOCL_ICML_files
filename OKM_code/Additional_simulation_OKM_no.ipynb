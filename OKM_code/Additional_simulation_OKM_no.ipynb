{
 "cells": [
  {
   "cell_type": "code",
   "execution_count": 19,
   "id": "8056d366",
   "metadata": {},
   "outputs": [],
   "source": [
    "source(\"./Ordered K-means_additional.R\")\n",
    "\n",
    "\n",
    "library(ggplot2)\n",
    "library(gridExtra)\n",
    "library(ggpubr)\n",
    "library(ggthemes)\n",
    "library(GGally)\n",
    "library(RColorBrewer)\n",
    "library(corrplot)\n",
    "library(dplyr)\n",
    "library(pdfCluster)\n",
    "library(fossil)\n",
    "options(warn=-1)\n",
    "library(Rtsne)\n",
    "library(latex2exp)"
   ]
  },
  {
   "cell_type": "markdown",
   "id": "e5206389",
   "metadata": {},
   "source": [
    "# Function"
   ]
  },
  {
   "cell_type": "code",
   "execution_count": 20,
   "id": "83f0cbdf",
   "metadata": {},
   "outputs": [],
   "source": [
    "nor_minmax = function(x){\n",
    "  xx=matrix(0,nrow(x),ncol(x))\n",
    "  colnames(xx)=colnames(x)\n",
    "  for(i in 1:ncol(x)){\n",
    "    xx[,i]=(x[,i] - min(x[,i])) / (max(x[,i]) - min(x[,i]))\n",
    "  }\n",
    "  return(xx)\n",
    "}\n",
    "\n",
    "setting_K7_unbalanced<-function(mu_or=1,n_k_lst=21*abs(c(1:7)-4)+20,\n",
    "                                p=20,seed=1234,mu_no=1){\n",
    "    set.seed(seed)\n",
    "    K=length(n_k_lst)\n",
    "    n=sum(n_k_lst)\n",
    "    \n",
    "    for(i in 1:K){\n",
    "        if(i==1){\n",
    "            clu_k=c(rep(i,n_k_lst[i]))\n",
    "        }else{\n",
    "            clu_k=c(clu_k,rep(i,n_k_lst[i]))\n",
    "        }\n",
    "    }\n",
    "    \n",
    "    mu_1=mu_or*(1/3)*(clu_k)^2\n",
    "    mu_2=mu_or*(-10)*(clu_k)^(1/2)\n",
    "    \n",
    "    # Data generation\n",
    "    x1=mu_1+rnorm(n,0,(1+1/clu_k))\n",
    "    x2=mu_2+rnorm(n,0,(1+1/clu_k))\n",
    "    \n",
    "    data_x=scale(cbind(x1,x2))\n",
    "    \n",
    "    ############################\n",
    "    # Data corresponding to nominal clusters\n",
    "    mu_no_mat=diag(K)\n",
    "    \n",
    "    # Nominal cluster generation\n",
    "    x_no=matrix(0,n,ncol(mu_no_mat))\n",
    "    p_lst=runif(n,0,1)\n",
    "    clu_no=p_lst*0\n",
    "    for(i in 1:K){\n",
    "        clu_no=clu_no+(p_lst>=((i-1)/8))\n",
    "    }\n",
    "    #clu_no\n",
    "    for(i in 1:nrow(x_no)){\n",
    "        x_no[i,]=mu_no*mu_no_mat[clu_no[i],]\n",
    "    }\n",
    "\n",
    "    for(i in 1:ncol(x_no)){\n",
    "        x_no[,i]=x_no[,i]+rnorm(nrow(x_no),0,1)\n",
    "    }\n",
    "\n",
    "    colnames(x_no)=paste(\"x_no\",1:(ncol(x_no)),sep=\"_\")\n",
    "    \n",
    "    ###############################\n",
    "    # Noise variables\n",
    "    p_e=p-ncol(data_x)-ncol(x_no)\n",
    "    noise_mat=nor_minmax(matrix(rnorm(n*p_e,0,1),n,p_e))\n",
    "    colnames(noise_mat)=paste(\"noise\",1:(ncol(noise_mat)),sep=\"_\")\n",
    "    \n",
    "    data=scale(cbind(data_x,x_no,noise_mat))\n",
    "    \n",
    "    ## clustering\n",
    "    kk=K\n",
    "    okm=okm_basic(data=data,k=kk,seed=seed+102)\n",
    "    okm_cluster=okm$cluster\n",
    "    \n",
    "    \n",
    "    kendall=cor(clu_k,okm$cluster,method=\"kendall\")\n",
    "    rand=rand.index(clu_k,okm$cluster)\n",
    "    \n",
    "    return(list(okm_clu=okm$cluster,cluster=clu_k,clu_no=clu_no,kendall=kendall,rand=rand))\n",
    "}"
   ]
  },
  {
   "cell_type": "markdown",
   "id": "c4326f1b",
   "metadata": {},
   "source": [
    "# Simulation"
   ]
  },
  {
   "cell_type": "code",
   "execution_count": 21,
   "id": "96c1dd8e",
   "metadata": {},
   "outputs": [],
   "source": [
    "iter_n=100"
   ]
  },
  {
   "cell_type": "code",
   "execution_count": 22,
   "id": "81c3b138",
   "metadata": {},
   "outputs": [
    {
     "data": {
      "text/plain": [
       "[1] \"2024-08-10 12:33:44 KST\""
      ]
     },
     "metadata": {},
     "output_type": "display_data"
    },
    {
     "data": {
      "text/plain": [
       "[1] \"2024-08-10 13:57:10 KST\""
      ]
     },
     "metadata": {},
     "output_type": "display_data"
    },
    {
     "data": {
      "text/plain": [
       "[1] \"2024-08-10 15:36:49 KST\""
      ]
     },
     "metadata": {},
     "output_type": "display_data"
    },
    {
     "data": {
      "text/plain": [
       "[1] \"2024-08-10 17:12:49 KST\""
      ]
     },
     "metadata": {},
     "output_type": "display_data"
    },
    {
     "data": {
      "text/plain": [
       "[1] \"2024-08-10 18:46:18 KST\""
      ]
     },
     "metadata": {},
     "output_type": "display_data"
    },
    {
     "data": {
      "text/plain": [
       "[1] \"2024-08-10 20:13:57 KST\""
      ]
     },
     "metadata": {},
     "output_type": "display_data"
    },
    {
     "data": {
      "text/plain": [
       "[1] \"2024-08-10 21:24:10 KST\""
      ]
     },
     "metadata": {},
     "output_type": "display_data"
    }
   ],
   "source": [
    "ss=292\n",
    "set.seed(ss)\n",
    "seed_r=round(runif(20000,1,20000))\n",
    "mu_nom=12.3\n",
    "models_0=list()\n",
    "models_1=list()\n",
    "models_2=list()\n",
    "models_3=list()\n",
    "models_4=list()\n",
    "models_5=list()\n",
    "Sys.time()\n",
    "for(i in 1:iter_n){\n",
    "    seed_rr=seed_r[120*i+2]\n",
    "    models_0[[i]]=setting_K7_unbalanced(mu_or=1,mu_no=mu_nom*0,seed=seed_rr)   \n",
    "}\n",
    "Sys.time()\n",
    "for(i in 1:iter_n){\n",
    "    seed_rr=seed_r[120*i+3]\n",
    "    models_1[[i]]=setting_K7_unbalanced(mu_or=1,mu_no=mu_nom*0.2,seed=seed_rr)   \n",
    "}\n",
    "Sys.time()\n",
    "for(i in 1:iter_n){\n",
    "    seed_rr=seed_r[1*i+400]\n",
    "    models_2[[i]]=setting_K7_unbalanced(mu_or=1,mu_no=mu_nom*0.4,seed=seed_rr)   \n",
    "}\n",
    "Sys.time()\n",
    "for(i in 1:iter_n){\n",
    "    seed_rr=seed_r[120*i+5]\n",
    "    models_3[[i]]=setting_K7_unbalanced(mu_or=1,mu_no=mu_nom*0.6,seed=seed_rr)   \n",
    "}\n",
    "Sys.time()\n",
    "for(i in 1:iter_n){\n",
    "    seed_rr=seed_r[120*i+6]\n",
    "    models_4[[i]]=setting_K7_unbalanced(mu_or=1,mu_no=mu_nom*0.8,seed=seed_rr)   \n",
    "}\n",
    "Sys.time()\n",
    "for(i in 1:iter_n){\n",
    "    seed_rr=seed_r[120*i+7]\n",
    "    models_5[[i]]=setting_K7_unbalanced(mu_or=1,mu_no=mu_nom*1.0,seed=seed_rr)   \n",
    "}\n",
    "Sys.time()"
   ]
  },
  {
   "cell_type": "code",
   "execution_count": 23,
   "id": "9a2ba380",
   "metadata": {},
   "outputs": [
    {
     "data": {
      "text/plain": [
       "[1] \"2024-08-10 21:24:10 KST\""
      ]
     },
     "metadata": {},
     "output_type": "display_data"
    },
    {
     "data": {
      "text/plain": [
       "[1] \"2024-08-10 22:33:31 KST\""
      ]
     },
     "metadata": {},
     "output_type": "display_data"
    },
    {
     "data": {
      "text/plain": [
       "[1] \"2024-08-10 23:39:45 KST\""
      ]
     },
     "metadata": {},
     "output_type": "display_data"
    },
    {
     "data": {
      "text/plain": [
       "[1] \"2024-08-11 02:43:37 KST\""
      ]
     },
     "metadata": {},
     "output_type": "display_data"
    },
    {
     "data": {
      "text/plain": [
       "[1] \"2024-08-11 04:22:04 KST\""
      ]
     },
     "metadata": {},
     "output_type": "display_data"
    },
    {
     "data": {
      "text/plain": [
       "[1] \"2024-08-11 06:44:39 KST\""
      ]
     },
     "metadata": {},
     "output_type": "display_data"
    }
   ],
   "source": [
    "models_6=list()\n",
    "models_7=list()\n",
    "models_8=list()\n",
    "models_9=list()\n",
    "models_10=list()\n",
    "Sys.time()\n",
    "for(i in 1:iter_n){\n",
    "    seed_rr=seed_r[120*i+8]\n",
    "    models_6[[i]]=setting_K7_unbalanced(mu_or=1,mu_no=mu_nom*1.2,seed=seed_rr)   \n",
    "}\n",
    "Sys.time()\n",
    "for(i in 1:iter_n){\n",
    "    seed_rr=seed_r[12*i+22]\n",
    "    models_7[[i]]=setting_K7_unbalanced(mu_or=1,mu_no=mu_nom*1.4,seed=seed_rr)   \n",
    "}\n",
    "\n",
    "Sys.time()\n",
    "for(i in 1:iter_n){\n",
    "    seed_rr=seed_r[120*i+15]\n",
    "    models_8[[i]]=setting_K7_unbalanced(mu_or=1,mu_no=mu_nom*1.6,seed=seed_rr)   \n",
    "}\n",
    "Sys.time()\n",
    "for(i in 1:iter_n){\n",
    "    seed_rr=seed_r[120*i+19]\n",
    "    models_9[[i]]=setting_K7_unbalanced(mu_or=1,mu_no=mu_nom*1.8,seed=seed_rr)   \n",
    "}\n",
    "Sys.time()\n",
    "for(i in 1:iter_n){\n",
    "    seed_rr=seed_r[12*i+11]\n",
    "    models_10[[i]]=setting_K7_unbalanced(mu_or=1,mu_no=mu_nom*2.0,seed=seed_rr)   \n",
    "}\n",
    "Sys.time()"
   ]
  },
  {
   "cell_type": "code",
   "execution_count": 29,
   "id": "3ef0c8e3",
   "metadata": {},
   "outputs": [
    {
     "data": {
      "text/html": [
       "100"
      ],
      "text/latex": [
       "100"
      ],
      "text/markdown": [
       "100"
      ],
      "text/plain": [
       "[1] 100"
      ]
     },
     "metadata": {},
     "output_type": "display_data"
    }
   ],
   "source": [
    "length(models_10)"
   ]
  },
  {
   "cell_type": "markdown",
   "id": "39dfc6fd",
   "metadata": {},
   "source": [
    "# Results"
   ]
  },
  {
   "cell_type": "code",
   "execution_count": 30,
   "id": "f6062f83",
   "metadata": {},
   "outputs": [],
   "source": [
    "mm_lst=list()\n",
    "mm_lst[[1]]=models_0\n",
    "mm_lst[[2]]=models_1\n",
    "mm_lst[[3]]=models_2\n",
    "mm_lst[[4]]=models_3\n",
    "mm_lst[[5]]=models_4\n",
    "mm_lst[[6]]=models_5\n",
    "mm_lst[[7]]=models_6\n",
    "mm_lst[[8]]=models_7\n",
    "mm_lst[[9]]=models_8\n",
    "mm_lst[[10]]=models_9\n",
    "mm_lst[[11]]=models_10\n",
    "\n",
    "saveRDS(mm_lst,file=\"OKM_simul_add_K7_CHI_nom.RData\")"
   ]
  },
  {
   "cell_type": "markdown",
   "id": "d449f6b5",
   "metadata": {},
   "source": [
    "### Rand index"
   ]
  },
  {
   "cell_type": "code",
   "execution_count": 31,
   "id": "fd22b826",
   "metadata": {},
   "outputs": [],
   "source": [
    "rand_or_mat=matrix(0,length(mm_lst),length(mm_lst[[1]]))\n",
    "rand_no_mat=matrix(0,length(mm_lst),length(mm_lst[[1]]))\n",
    "\n",
    "for(i in 1:length(mm_lst)){\n",
    "    for(j in 1:length(mm_lst[[1]])){\n",
    "        mm=mm_lst[[i]][[j]]\n",
    "        rand_or=rand.index(mm$cluster,mm$okm_clu)\n",
    "        rand_no=rand.index(mm$clu_no,mm$okm_clu)\n",
    "        \n",
    "        rand_or_mat[i,j]=rand_or\n",
    "        rand_no_mat[i,j]=rand_no\n",
    "        \n",
    "    }\n",
    "}\n",
    "\n",
    "rand_or_lst=apply(rand_or_mat,1,mean)\n",
    "rand_no_lst=apply(rand_no_mat,1,mean)\n",
    "\n",
    "rand_okm=list()\n",
    "rand_okm[[\"or\"]]=rand_or_lst\n",
    "rand_okm[[\"no\"]]=rand_no_lst\n",
    "\n",
    "saveRDS(rand_okm,file=\"OKM_rand_add_K7_CHI_nom.RData\")"
   ]
  },
  {
   "cell_type": "code",
   "execution_count": null,
   "id": "b29f81cf",
   "metadata": {},
   "outputs": [],
   "source": []
  }
 ],
 "metadata": {
  "kernelspec": {
   "display_name": "R",
   "language": "R",
   "name": "r"
  },
  "language_info": {
   "codemirror_mode": "r",
   "file_extension": ".r",
   "mimetype": "text/x-r-source",
   "name": "R",
   "pygments_lexer": "r",
   "version": "4.2.1"
  }
 },
 "nbformat": 4,
 "nbformat_minor": 5
}
